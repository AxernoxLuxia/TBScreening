{
 "cells": [
  {
   "cell_type": "code",
   "execution_count": 2,
   "metadata": {},
   "outputs": [],
   "source": [
    "import tensorflow as tf\n",
    "import matplotlib.pyplot as plt\n",
    "import pandas as pd\n",
    "import seaborn as sns\n",
    "from tensorflow.keras.layers import Dense, Conv2D, MaxPool2D, Flatten, Dropout\n",
    "from tensorflow.keras.models import Sequential, load_model\n",
    "from tensorflow.keras import metrics"
   ]
  },
  {
   "cell_type": "code",
   "execution_count": 3,
   "metadata": {},
   "outputs": [],
   "source": [
    "img_height,img_width=256,256\n",
    "batch_size=8"
   ]
  },
  {
   "cell_type": "code",
   "execution_count": 29,
   "metadata": {},
   "outputs": [
    {
     "name": "stdout",
     "output_type": "stream",
     "text": [
      "Found 2065 files belonging to 3 classes.\n"
     ]
    }
   ],
   "source": [
    "directory = '/home/axernox/Resnet50/tbx11k-simplified_can/traincan'\n",
    "train = tf.keras.utils.image_dataset_from_directory(\n",
    "    directory,\n",
    "    labels=\"inferred\",\n",
    "    label_mode=\"categorical\",\n",
    "    class_names=None,\n",
    "    color_mode=\"rgb\",\n",
    "    batch_size=8,\n",
    "    image_size=(img_height,img_width),\n",
    "    shuffle=True,\n",
    "    seed=None,\n",
    "    validation_split=None,\n",
    "    subset=None,\n",
    "    interpolation=\"bilinear\",\n",
    "    follow_links=False,\n",
    "    crop_to_aspect_ratio=False,\n",
    "    pad_to_aspect_ratio=False,\n",
    "    data_format=None,\n",
    "    verbose=True,\n",
    ")"
   ]
  },
  {
   "cell_type": "code",
   "execution_count": 30,
   "metadata": {},
   "outputs": [
    {
     "name": "stdout",
     "output_type": "stream",
     "text": [
      "Found 800 files belonging to 3 classes.\n"
     ]
    }
   ],
   "source": [
    "directoryval = '/home/axernox/Resnet50/tbx11k-simplified_can/valcan'\n",
    "val = tf.keras.utils.image_dataset_from_directory(\n",
    "    directoryval,\n",
    "    labels=\"inferred\",\n",
    "    label_mode=\"categorical\",\n",
    "    class_names=None,\n",
    "    color_mode=\"rgb\",\n",
    "    batch_size=8,\n",
    "    image_size=(img_height,img_width),\n",
    "    shuffle=True,\n",
    "    seed=None,\n",
    "    validation_split=None,\n",
    "    subset=None,\n",
    "    interpolation=\"bilinear\",\n",
    "    follow_links=False,\n",
    "    crop_to_aspect_ratio=False,\n",
    "    pad_to_aspect_ratio=False,\n",
    "    data_format=None,\n",
    "    verbose=True,\n",
    ")"
   ]
  },
  {
   "cell_type": "code",
   "execution_count": 16,
   "metadata": {},
   "outputs": [
    {
     "name": "stdout",
     "output_type": "stream",
     "text": [
      "Found 291 files belonging to 3 classes.\n"
     ]
    }
   ],
   "source": [
    "directorytest = '/home/axernox/Resnet50/tbx11k-simplified_can/testcan'\n",
    "test = tf.keras.utils.image_dataset_from_directory(\n",
    "    directorytest,\n",
    "    labels=\"inferred\",\n",
    "    label_mode=\"categorical\",\n",
    "    class_names=None,\n",
    "    color_mode=\"rgb\",\n",
    "    batch_size=8,\n",
    "    image_size=(img_height,img_width),\n",
    "    shuffle=False,\n",
    "    seed=None,\n",
    "    validation_split=None,\n",
    "    subset=None,\n",
    "    interpolation=\"bilinear\",\n",
    "    follow_links=False,\n",
    "    crop_to_aspect_ratio=False,\n",
    "    pad_to_aspect_ratio=False,\n",
    "    data_format=None,\n",
    "    verbose=True,\n",
    ")"
   ]
  },
  {
   "cell_type": "code",
   "execution_count": 6,
   "metadata": {},
   "outputs": [
    {
     "name": "stderr",
     "output_type": "stream",
     "text": [
      "/home/axernox/.local/lib/python3.10/site-packages/keras/src/layers/convolutional/base_conv.py:107: UserWarning: Do not pass an `input_shape`/`input_dim` argument to a layer. When using Sequential models, prefer using an `Input(shape)` object as the first layer in the model instead.\n",
      "  super().__init__(activity_regularizer=activity_regularizer, **kwargs)\n"
     ]
    }
   ],
   "source": [
    "model = Sequential([\n",
    "    Conv2D(filters=32, kernel_size=3, padding='same', activation='relu', input_shape=[256, 256, 3]),\n",
    "    Conv2D(filters=32, kernel_size=3, activation='relu'),\n",
    "    MaxPool2D(pool_size=2, strides=2),\n",
    "    Conv2D(filters=64, kernel_size=3, padding='same', activation='relu'),\n",
    "    Conv2D(filters=64, kernel_size=3, activation='relu'),\n",
    "    MaxPool2D(pool_size=2, strides=2),\n",
    "    Conv2D(filters=128, kernel_size=3, padding='same', activation='relu'),\n",
    "    Conv2D(filters=128, kernel_size=3, activation='relu'),\n",
    "    MaxPool2D(pool_size=2, strides=2),\n",
    "    Conv2D(filters=256, kernel_size=3, padding='same', activation='relu'),\n",
    "    Conv2D(filters=256, kernel_size=3, activation='relu'),\n",
    "    MaxPool2D(pool_size=2, strides=2),\n",
    "    Conv2D(filters=512, kernel_size=3, padding='same', activation='relu'),\n",
    "    Conv2D(filters=512, kernel_size=3, activation='relu'),\n",
    "    MaxPool2D(pool_size=2, strides=2),\n",
    "    Dropout(0.25), # To avoid overfitting \n",
    "    Flatten(),\n",
    "    Dense(units=1500, activation='relu'),\n",
    "    Dropout(0.4), # To avoid overfitting \n",
    "    Dense(units=3, activation='softmax')\n",
    "])\n"
   ]
  },
  {
   "cell_type": "code",
   "execution_count": 7,
   "metadata": {},
   "outputs": [],
   "source": [
    "model.compile(optimizer=tf.keras.optimizers.Adam(learning_rate=0.0001), loss='categorical_crossentropy', metrics=['accuracy'])"
   ]
  },
  {
   "cell_type": "code",
   "execution_count": 5,
   "metadata": {},
   "outputs": [
    {
     "data": {
      "text/html": [
       "<pre style=\"white-space:pre;overflow-x:auto;line-height:normal;font-family:Menlo,'DejaVu Sans Mono',consolas,'Courier New',monospace\"><span style=\"font-weight: bold\">Model: \"sequential\"</span>\n",
       "</pre>\n"
      ],
      "text/plain": [
       "\u001b[1mModel: \"sequential\"\u001b[0m\n"
      ]
     },
     "metadata": {},
     "output_type": "display_data"
    },
    {
     "data": {
      "text/html": [
       "<pre style=\"white-space:pre;overflow-x:auto;line-height:normal;font-family:Menlo,'DejaVu Sans Mono',consolas,'Courier New',monospace\">┏━━━━━━━━━━━━━━━━━━━━━━━━━━━━━━━━━┳━━━━━━━━━━━━━━━━━━━━━━━━┳━━━━━━━━━━━━━━━┓\n",
       "┃<span style=\"font-weight: bold\"> Layer (type)                    </span>┃<span style=\"font-weight: bold\"> Output Shape           </span>┃<span style=\"font-weight: bold\">       Param # </span>┃\n",
       "┡━━━━━━━━━━━━━━━━━━━━━━━━━━━━━━━━━╇━━━━━━━━━━━━━━━━━━━━━━━━╇━━━━━━━━━━━━━━━┩\n",
       "│ conv2d (<span style=\"color: #0087ff; text-decoration-color: #0087ff\">Conv2D</span>)                 │ (<span style=\"color: #00d7ff; text-decoration-color: #00d7ff\">None</span>, <span style=\"color: #00af00; text-decoration-color: #00af00\">256</span>, <span style=\"color: #00af00; text-decoration-color: #00af00\">256</span>, <span style=\"color: #00af00; text-decoration-color: #00af00\">32</span>)   │           <span style=\"color: #00af00; text-decoration-color: #00af00\">320</span> │\n",
       "├─────────────────────────────────┼────────────────────────┼───────────────┤\n",
       "│ conv2d_1 (<span style=\"color: #0087ff; text-decoration-color: #0087ff\">Conv2D</span>)               │ (<span style=\"color: #00d7ff; text-decoration-color: #00d7ff\">None</span>, <span style=\"color: #00af00; text-decoration-color: #00af00\">254</span>, <span style=\"color: #00af00; text-decoration-color: #00af00\">254</span>, <span style=\"color: #00af00; text-decoration-color: #00af00\">32</span>)   │         <span style=\"color: #00af00; text-decoration-color: #00af00\">9,248</span> │\n",
       "├─────────────────────────────────┼────────────────────────┼───────────────┤\n",
       "│ max_pooling2d (<span style=\"color: #0087ff; text-decoration-color: #0087ff\">MaxPooling2D</span>)    │ (<span style=\"color: #00d7ff; text-decoration-color: #00d7ff\">None</span>, <span style=\"color: #00af00; text-decoration-color: #00af00\">127</span>, <span style=\"color: #00af00; text-decoration-color: #00af00\">127</span>, <span style=\"color: #00af00; text-decoration-color: #00af00\">32</span>)   │             <span style=\"color: #00af00; text-decoration-color: #00af00\">0</span> │\n",
       "├─────────────────────────────────┼────────────────────────┼───────────────┤\n",
       "│ conv2d_2 (<span style=\"color: #0087ff; text-decoration-color: #0087ff\">Conv2D</span>)               │ (<span style=\"color: #00d7ff; text-decoration-color: #00d7ff\">None</span>, <span style=\"color: #00af00; text-decoration-color: #00af00\">127</span>, <span style=\"color: #00af00; text-decoration-color: #00af00\">127</span>, <span style=\"color: #00af00; text-decoration-color: #00af00\">64</span>)   │        <span style=\"color: #00af00; text-decoration-color: #00af00\">18,496</span> │\n",
       "├─────────────────────────────────┼────────────────────────┼───────────────┤\n",
       "│ conv2d_3 (<span style=\"color: #0087ff; text-decoration-color: #0087ff\">Conv2D</span>)               │ (<span style=\"color: #00d7ff; text-decoration-color: #00d7ff\">None</span>, <span style=\"color: #00af00; text-decoration-color: #00af00\">125</span>, <span style=\"color: #00af00; text-decoration-color: #00af00\">125</span>, <span style=\"color: #00af00; text-decoration-color: #00af00\">64</span>)   │        <span style=\"color: #00af00; text-decoration-color: #00af00\">36,928</span> │\n",
       "├─────────────────────────────────┼────────────────────────┼───────────────┤\n",
       "│ max_pooling2d_1 (<span style=\"color: #0087ff; text-decoration-color: #0087ff\">MaxPooling2D</span>)  │ (<span style=\"color: #00d7ff; text-decoration-color: #00d7ff\">None</span>, <span style=\"color: #00af00; text-decoration-color: #00af00\">62</span>, <span style=\"color: #00af00; text-decoration-color: #00af00\">62</span>, <span style=\"color: #00af00; text-decoration-color: #00af00\">64</span>)     │             <span style=\"color: #00af00; text-decoration-color: #00af00\">0</span> │\n",
       "├─────────────────────────────────┼────────────────────────┼───────────────┤\n",
       "│ conv2d_4 (<span style=\"color: #0087ff; text-decoration-color: #0087ff\">Conv2D</span>)               │ (<span style=\"color: #00d7ff; text-decoration-color: #00d7ff\">None</span>, <span style=\"color: #00af00; text-decoration-color: #00af00\">62</span>, <span style=\"color: #00af00; text-decoration-color: #00af00\">62</span>, <span style=\"color: #00af00; text-decoration-color: #00af00\">128</span>)    │        <span style=\"color: #00af00; text-decoration-color: #00af00\">73,856</span> │\n",
       "├─────────────────────────────────┼────────────────────────┼───────────────┤\n",
       "│ conv2d_5 (<span style=\"color: #0087ff; text-decoration-color: #0087ff\">Conv2D</span>)               │ (<span style=\"color: #00d7ff; text-decoration-color: #00d7ff\">None</span>, <span style=\"color: #00af00; text-decoration-color: #00af00\">60</span>, <span style=\"color: #00af00; text-decoration-color: #00af00\">60</span>, <span style=\"color: #00af00; text-decoration-color: #00af00\">128</span>)    │       <span style=\"color: #00af00; text-decoration-color: #00af00\">147,584</span> │\n",
       "├─────────────────────────────────┼────────────────────────┼───────────────┤\n",
       "│ max_pooling2d_2 (<span style=\"color: #0087ff; text-decoration-color: #0087ff\">MaxPooling2D</span>)  │ (<span style=\"color: #00d7ff; text-decoration-color: #00d7ff\">None</span>, <span style=\"color: #00af00; text-decoration-color: #00af00\">30</span>, <span style=\"color: #00af00; text-decoration-color: #00af00\">30</span>, <span style=\"color: #00af00; text-decoration-color: #00af00\">128</span>)    │             <span style=\"color: #00af00; text-decoration-color: #00af00\">0</span> │\n",
       "├─────────────────────────────────┼────────────────────────┼───────────────┤\n",
       "│ conv2d_6 (<span style=\"color: #0087ff; text-decoration-color: #0087ff\">Conv2D</span>)               │ (<span style=\"color: #00d7ff; text-decoration-color: #00d7ff\">None</span>, <span style=\"color: #00af00; text-decoration-color: #00af00\">30</span>, <span style=\"color: #00af00; text-decoration-color: #00af00\">30</span>, <span style=\"color: #00af00; text-decoration-color: #00af00\">256</span>)    │       <span style=\"color: #00af00; text-decoration-color: #00af00\">295,168</span> │\n",
       "├─────────────────────────────────┼────────────────────────┼───────────────┤\n",
       "│ conv2d_7 (<span style=\"color: #0087ff; text-decoration-color: #0087ff\">Conv2D</span>)               │ (<span style=\"color: #00d7ff; text-decoration-color: #00d7ff\">None</span>, <span style=\"color: #00af00; text-decoration-color: #00af00\">28</span>, <span style=\"color: #00af00; text-decoration-color: #00af00\">28</span>, <span style=\"color: #00af00; text-decoration-color: #00af00\">256</span>)    │       <span style=\"color: #00af00; text-decoration-color: #00af00\">590,080</span> │\n",
       "├─────────────────────────────────┼────────────────────────┼───────────────┤\n",
       "│ max_pooling2d_3 (<span style=\"color: #0087ff; text-decoration-color: #0087ff\">MaxPooling2D</span>)  │ (<span style=\"color: #00d7ff; text-decoration-color: #00d7ff\">None</span>, <span style=\"color: #00af00; text-decoration-color: #00af00\">14</span>, <span style=\"color: #00af00; text-decoration-color: #00af00\">14</span>, <span style=\"color: #00af00; text-decoration-color: #00af00\">256</span>)    │             <span style=\"color: #00af00; text-decoration-color: #00af00\">0</span> │\n",
       "├─────────────────────────────────┼────────────────────────┼───────────────┤\n",
       "│ conv2d_8 (<span style=\"color: #0087ff; text-decoration-color: #0087ff\">Conv2D</span>)               │ (<span style=\"color: #00d7ff; text-decoration-color: #00d7ff\">None</span>, <span style=\"color: #00af00; text-decoration-color: #00af00\">14</span>, <span style=\"color: #00af00; text-decoration-color: #00af00\">14</span>, <span style=\"color: #00af00; text-decoration-color: #00af00\">512</span>)    │     <span style=\"color: #00af00; text-decoration-color: #00af00\">1,180,160</span> │\n",
       "├─────────────────────────────────┼────────────────────────┼───────────────┤\n",
       "│ conv2d_9 (<span style=\"color: #0087ff; text-decoration-color: #0087ff\">Conv2D</span>)               │ (<span style=\"color: #00d7ff; text-decoration-color: #00d7ff\">None</span>, <span style=\"color: #00af00; text-decoration-color: #00af00\">12</span>, <span style=\"color: #00af00; text-decoration-color: #00af00\">12</span>, <span style=\"color: #00af00; text-decoration-color: #00af00\">512</span>)    │     <span style=\"color: #00af00; text-decoration-color: #00af00\">2,359,808</span> │\n",
       "├─────────────────────────────────┼────────────────────────┼───────────────┤\n",
       "│ max_pooling2d_4 (<span style=\"color: #0087ff; text-decoration-color: #0087ff\">MaxPooling2D</span>)  │ (<span style=\"color: #00d7ff; text-decoration-color: #00d7ff\">None</span>, <span style=\"color: #00af00; text-decoration-color: #00af00\">6</span>, <span style=\"color: #00af00; text-decoration-color: #00af00\">6</span>, <span style=\"color: #00af00; text-decoration-color: #00af00\">512</span>)      │             <span style=\"color: #00af00; text-decoration-color: #00af00\">0</span> │\n",
       "├─────────────────────────────────┼────────────────────────┼───────────────┤\n",
       "│ dropout (<span style=\"color: #0087ff; text-decoration-color: #0087ff\">Dropout</span>)               │ (<span style=\"color: #00d7ff; text-decoration-color: #00d7ff\">None</span>, <span style=\"color: #00af00; text-decoration-color: #00af00\">6</span>, <span style=\"color: #00af00; text-decoration-color: #00af00\">6</span>, <span style=\"color: #00af00; text-decoration-color: #00af00\">512</span>)      │             <span style=\"color: #00af00; text-decoration-color: #00af00\">0</span> │\n",
       "├─────────────────────────────────┼────────────────────────┼───────────────┤\n",
       "│ flatten (<span style=\"color: #0087ff; text-decoration-color: #0087ff\">Flatten</span>)               │ (<span style=\"color: #00d7ff; text-decoration-color: #00d7ff\">None</span>, <span style=\"color: #00af00; text-decoration-color: #00af00\">18432</span>)          │             <span style=\"color: #00af00; text-decoration-color: #00af00\">0</span> │\n",
       "├─────────────────────────────────┼────────────────────────┼───────────────┤\n",
       "│ dense (<span style=\"color: #0087ff; text-decoration-color: #0087ff\">Dense</span>)                   │ (<span style=\"color: #00d7ff; text-decoration-color: #00d7ff\">None</span>, <span style=\"color: #00af00; text-decoration-color: #00af00\">1500</span>)           │    <span style=\"color: #00af00; text-decoration-color: #00af00\">27,649,500</span> │\n",
       "├─────────────────────────────────┼────────────────────────┼───────────────┤\n",
       "│ dropout_1 (<span style=\"color: #0087ff; text-decoration-color: #0087ff\">Dropout</span>)             │ (<span style=\"color: #00d7ff; text-decoration-color: #00d7ff\">None</span>, <span style=\"color: #00af00; text-decoration-color: #00af00\">1500</span>)           │             <span style=\"color: #00af00; text-decoration-color: #00af00\">0</span> │\n",
       "├─────────────────────────────────┼────────────────────────┼───────────────┤\n",
       "│ dense_1 (<span style=\"color: #0087ff; text-decoration-color: #0087ff\">Dense</span>)                 │ (<span style=\"color: #00d7ff; text-decoration-color: #00d7ff\">None</span>, <span style=\"color: #00af00; text-decoration-color: #00af00\">3</span>)              │         <span style=\"color: #00af00; text-decoration-color: #00af00\">4,503</span> │\n",
       "└─────────────────────────────────┴────────────────────────┴───────────────┘\n",
       "</pre>\n"
      ],
      "text/plain": [
       "┏━━━━━━━━━━━━━━━━━━━━━━━━━━━━━━━━━┳━━━━━━━━━━━━━━━━━━━━━━━━┳━━━━━━━━━━━━━━━┓\n",
       "┃\u001b[1m \u001b[0m\u001b[1mLayer (type)                   \u001b[0m\u001b[1m \u001b[0m┃\u001b[1m \u001b[0m\u001b[1mOutput Shape          \u001b[0m\u001b[1m \u001b[0m┃\u001b[1m \u001b[0m\u001b[1m      Param #\u001b[0m\u001b[1m \u001b[0m┃\n",
       "┡━━━━━━━━━━━━━━━━━━━━━━━━━━━━━━━━━╇━━━━━━━━━━━━━━━━━━━━━━━━╇━━━━━━━━━━━━━━━┩\n",
       "│ conv2d (\u001b[38;5;33mConv2D\u001b[0m)                 │ (\u001b[38;5;45mNone\u001b[0m, \u001b[38;5;34m256\u001b[0m, \u001b[38;5;34m256\u001b[0m, \u001b[38;5;34m32\u001b[0m)   │           \u001b[38;5;34m320\u001b[0m │\n",
       "├─────────────────────────────────┼────────────────────────┼───────────────┤\n",
       "│ conv2d_1 (\u001b[38;5;33mConv2D\u001b[0m)               │ (\u001b[38;5;45mNone\u001b[0m, \u001b[38;5;34m254\u001b[0m, \u001b[38;5;34m254\u001b[0m, \u001b[38;5;34m32\u001b[0m)   │         \u001b[38;5;34m9,248\u001b[0m │\n",
       "├─────────────────────────────────┼────────────────────────┼───────────────┤\n",
       "│ max_pooling2d (\u001b[38;5;33mMaxPooling2D\u001b[0m)    │ (\u001b[38;5;45mNone\u001b[0m, \u001b[38;5;34m127\u001b[0m, \u001b[38;5;34m127\u001b[0m, \u001b[38;5;34m32\u001b[0m)   │             \u001b[38;5;34m0\u001b[0m │\n",
       "├─────────────────────────────────┼────────────────────────┼───────────────┤\n",
       "│ conv2d_2 (\u001b[38;5;33mConv2D\u001b[0m)               │ (\u001b[38;5;45mNone\u001b[0m, \u001b[38;5;34m127\u001b[0m, \u001b[38;5;34m127\u001b[0m, \u001b[38;5;34m64\u001b[0m)   │        \u001b[38;5;34m18,496\u001b[0m │\n",
       "├─────────────────────────────────┼────────────────────────┼───────────────┤\n",
       "│ conv2d_3 (\u001b[38;5;33mConv2D\u001b[0m)               │ (\u001b[38;5;45mNone\u001b[0m, \u001b[38;5;34m125\u001b[0m, \u001b[38;5;34m125\u001b[0m, \u001b[38;5;34m64\u001b[0m)   │        \u001b[38;5;34m36,928\u001b[0m │\n",
       "├─────────────────────────────────┼────────────────────────┼───────────────┤\n",
       "│ max_pooling2d_1 (\u001b[38;5;33mMaxPooling2D\u001b[0m)  │ (\u001b[38;5;45mNone\u001b[0m, \u001b[38;5;34m62\u001b[0m, \u001b[38;5;34m62\u001b[0m, \u001b[38;5;34m64\u001b[0m)     │             \u001b[38;5;34m0\u001b[0m │\n",
       "├─────────────────────────────────┼────────────────────────┼───────────────┤\n",
       "│ conv2d_4 (\u001b[38;5;33mConv2D\u001b[0m)               │ (\u001b[38;5;45mNone\u001b[0m, \u001b[38;5;34m62\u001b[0m, \u001b[38;5;34m62\u001b[0m, \u001b[38;5;34m128\u001b[0m)    │        \u001b[38;5;34m73,856\u001b[0m │\n",
       "├─────────────────────────────────┼────────────────────────┼───────────────┤\n",
       "│ conv2d_5 (\u001b[38;5;33mConv2D\u001b[0m)               │ (\u001b[38;5;45mNone\u001b[0m, \u001b[38;5;34m60\u001b[0m, \u001b[38;5;34m60\u001b[0m, \u001b[38;5;34m128\u001b[0m)    │       \u001b[38;5;34m147,584\u001b[0m │\n",
       "├─────────────────────────────────┼────────────────────────┼───────────────┤\n",
       "│ max_pooling2d_2 (\u001b[38;5;33mMaxPooling2D\u001b[0m)  │ (\u001b[38;5;45mNone\u001b[0m, \u001b[38;5;34m30\u001b[0m, \u001b[38;5;34m30\u001b[0m, \u001b[38;5;34m128\u001b[0m)    │             \u001b[38;5;34m0\u001b[0m │\n",
       "├─────────────────────────────────┼────────────────────────┼───────────────┤\n",
       "│ conv2d_6 (\u001b[38;5;33mConv2D\u001b[0m)               │ (\u001b[38;5;45mNone\u001b[0m, \u001b[38;5;34m30\u001b[0m, \u001b[38;5;34m30\u001b[0m, \u001b[38;5;34m256\u001b[0m)    │       \u001b[38;5;34m295,168\u001b[0m │\n",
       "├─────────────────────────────────┼────────────────────────┼───────────────┤\n",
       "│ conv2d_7 (\u001b[38;5;33mConv2D\u001b[0m)               │ (\u001b[38;5;45mNone\u001b[0m, \u001b[38;5;34m28\u001b[0m, \u001b[38;5;34m28\u001b[0m, \u001b[38;5;34m256\u001b[0m)    │       \u001b[38;5;34m590,080\u001b[0m │\n",
       "├─────────────────────────────────┼────────────────────────┼───────────────┤\n",
       "│ max_pooling2d_3 (\u001b[38;5;33mMaxPooling2D\u001b[0m)  │ (\u001b[38;5;45mNone\u001b[0m, \u001b[38;5;34m14\u001b[0m, \u001b[38;5;34m14\u001b[0m, \u001b[38;5;34m256\u001b[0m)    │             \u001b[38;5;34m0\u001b[0m │\n",
       "├─────────────────────────────────┼────────────────────────┼───────────────┤\n",
       "│ conv2d_8 (\u001b[38;5;33mConv2D\u001b[0m)               │ (\u001b[38;5;45mNone\u001b[0m, \u001b[38;5;34m14\u001b[0m, \u001b[38;5;34m14\u001b[0m, \u001b[38;5;34m512\u001b[0m)    │     \u001b[38;5;34m1,180,160\u001b[0m │\n",
       "├─────────────────────────────────┼────────────────────────┼───────────────┤\n",
       "│ conv2d_9 (\u001b[38;5;33mConv2D\u001b[0m)               │ (\u001b[38;5;45mNone\u001b[0m, \u001b[38;5;34m12\u001b[0m, \u001b[38;5;34m12\u001b[0m, \u001b[38;5;34m512\u001b[0m)    │     \u001b[38;5;34m2,359,808\u001b[0m │\n",
       "├─────────────────────────────────┼────────────────────────┼───────────────┤\n",
       "│ max_pooling2d_4 (\u001b[38;5;33mMaxPooling2D\u001b[0m)  │ (\u001b[38;5;45mNone\u001b[0m, \u001b[38;5;34m6\u001b[0m, \u001b[38;5;34m6\u001b[0m, \u001b[38;5;34m512\u001b[0m)      │             \u001b[38;5;34m0\u001b[0m │\n",
       "├─────────────────────────────────┼────────────────────────┼───────────────┤\n",
       "│ dropout (\u001b[38;5;33mDropout\u001b[0m)               │ (\u001b[38;5;45mNone\u001b[0m, \u001b[38;5;34m6\u001b[0m, \u001b[38;5;34m6\u001b[0m, \u001b[38;5;34m512\u001b[0m)      │             \u001b[38;5;34m0\u001b[0m │\n",
       "├─────────────────────────────────┼────────────────────────┼───────────────┤\n",
       "│ flatten (\u001b[38;5;33mFlatten\u001b[0m)               │ (\u001b[38;5;45mNone\u001b[0m, \u001b[38;5;34m18432\u001b[0m)          │             \u001b[38;5;34m0\u001b[0m │\n",
       "├─────────────────────────────────┼────────────────────────┼───────────────┤\n",
       "│ dense (\u001b[38;5;33mDense\u001b[0m)                   │ (\u001b[38;5;45mNone\u001b[0m, \u001b[38;5;34m1500\u001b[0m)           │    \u001b[38;5;34m27,649,500\u001b[0m │\n",
       "├─────────────────────────────────┼────────────────────────┼───────────────┤\n",
       "│ dropout_1 (\u001b[38;5;33mDropout\u001b[0m)             │ (\u001b[38;5;45mNone\u001b[0m, \u001b[38;5;34m1500\u001b[0m)           │             \u001b[38;5;34m0\u001b[0m │\n",
       "├─────────────────────────────────┼────────────────────────┼───────────────┤\n",
       "│ dense_1 (\u001b[38;5;33mDense\u001b[0m)                 │ (\u001b[38;5;45mNone\u001b[0m, \u001b[38;5;34m3\u001b[0m)              │         \u001b[38;5;34m4,503\u001b[0m │\n",
       "└─────────────────────────────────┴────────────────────────┴───────────────┘\n"
      ]
     },
     "metadata": {},
     "output_type": "display_data"
    },
    {
     "data": {
      "text/html": [
       "<pre style=\"white-space:pre;overflow-x:auto;line-height:normal;font-family:Menlo,'DejaVu Sans Mono',consolas,'Courier New',monospace\"><span style=\"font-weight: bold\"> Total params: </span><span style=\"color: #00af00; text-decoration-color: #00af00\">32,365,651</span> (123.47 MB)\n",
       "</pre>\n"
      ],
      "text/plain": [
       "\u001b[1m Total params: \u001b[0m\u001b[38;5;34m32,365,651\u001b[0m (123.47 MB)\n"
      ]
     },
     "metadata": {},
     "output_type": "display_data"
    },
    {
     "data": {
      "text/html": [
       "<pre style=\"white-space:pre;overflow-x:auto;line-height:normal;font-family:Menlo,'DejaVu Sans Mono',consolas,'Courier New',monospace\"><span style=\"font-weight: bold\"> Trainable params: </span><span style=\"color: #00af00; text-decoration-color: #00af00\">32,365,651</span> (123.47 MB)\n",
       "</pre>\n"
      ],
      "text/plain": [
       "\u001b[1m Trainable params: \u001b[0m\u001b[38;5;34m32,365,651\u001b[0m (123.47 MB)\n"
      ]
     },
     "metadata": {},
     "output_type": "display_data"
    },
    {
     "data": {
      "text/html": [
       "<pre style=\"white-space:pre;overflow-x:auto;line-height:normal;font-family:Menlo,'DejaVu Sans Mono',consolas,'Courier New',monospace\"><span style=\"font-weight: bold\"> Non-trainable params: </span><span style=\"color: #00af00; text-decoration-color: #00af00\">0</span> (0.00 B)\n",
       "</pre>\n"
      ],
      "text/plain": [
       "\u001b[1m Non-trainable params: \u001b[0m\u001b[38;5;34m0\u001b[0m (0.00 B)\n"
      ]
     },
     "metadata": {},
     "output_type": "display_data"
    }
   ],
   "source": [
    "model.summary()"
   ]
  },
  {
   "cell_type": "code",
   "execution_count": 12,
   "metadata": {},
   "outputs": [
    {
     "name": "stdout",
     "output_type": "stream",
     "text": [
      "Epoch 1/10\n"
     ]
    },
    {
     "name": "stderr",
     "output_type": "stream",
     "text": [
      "WARNING: All log messages before absl::InitializeLog() is called are written to STDERR\n",
      "I0000 00:00:1726319116.315739   97445 service.cc:145] XLA service 0x7f1130019a60 initialized for platform CUDA (this does not guarantee that XLA will be used). Devices:\n",
      "I0000 00:00:1726319116.315855   97445 service.cc:153]   StreamExecutor device (0): NVIDIA GeForce RTX 3050 Ti Laptop GPU, Compute Capability 8.6\n",
      "2024-09-14 18:35:16.376034: I tensorflow/compiler/mlir/tensorflow/utils/dump_mlir_util.cc:268] disabling MLIR crash reproducer, set env var `MLIR_CRASH_REPRODUCER_DIRECTORY` to enable.\n",
      "2024-09-14 18:35:16.705229: I external/local_xla/xla/stream_executor/cuda/cuda_dnn.cc:465] Loaded cuDNN version 8907\n"
     ]
    },
    {
     "name": "stdout",
     "output_type": "stream",
     "text": [
      "\u001b[1m  1/259\u001b[0m \u001b[37m━━━━━━━━━━━━━━━━━━━━\u001b[0m \u001b[1m1:09:23\u001b[0m 16s/step - accuracy: 0.2500 - loss: 1.8527"
     ]
    },
    {
     "name": "stderr",
     "output_type": "stream",
     "text": [
      "WARNING: All log messages before absl::InitializeLog() is called are written to STDERR\n",
      "I0000 00:00:1726319130.142075   97445 asm_compiler.cc:369] ptxas warning : Registers are spilled to local memory in function 'input_reduce_select_fusion_7', 196 bytes spill stores, 196 bytes spill loads\n",
      "ptxas warning : Registers are spilled to local memory in function 'input_reduce_select_fusion_6', 68 bytes spill stores, 68 bytes spill loads\n",
      "\n",
      "I0000 00:00:1726319130.149222   97445 device_compiler.h:188] Compiled cluster using XLA!  This line is logged at most once for the lifetime of the process.\n"
     ]
    },
    {
     "name": "stdout",
     "output_type": "stream",
     "text": [
      "\u001b[1m258/259\u001b[0m \u001b[32m━━━━━━━━━━━━━━━━━━━\u001b[0m\u001b[37m━\u001b[0m \u001b[1m0s\u001b[0m 61ms/step - accuracy: 0.4933 - loss: 1.4122"
     ]
    },
    {
     "name": "stderr",
     "output_type": "stream",
     "text": [
      "2024-09-14 18:35:49.924543: W external/local_tsl/tsl/framework/bfc_allocator.cc:296] Allocator (GPU_0_bfc) ran out of memory trying to allocate 1.03GiB with freed_by_count=0. The caller indicates that this is not a failure, but this may mean that there could be performance gains if more memory were available.\n"
     ]
    },
    {
     "name": "stdout",
     "output_type": "stream",
     "text": [
      "\u001b[1m259/259\u001b[0m \u001b[32m━━━━━━━━━━━━━━━━━━━━\u001b[0m\u001b[37m\u001b[0m \u001b[1m0s\u001b[0m 87ms/step - accuracy: 0.4937 - loss: 1.4104"
     ]
    },
    {
     "name": "stderr",
     "output_type": "stream",
     "text": [
      "I0000 00:00:1726319153.751132   98199 asm_compiler.cc:369] ptxas warning : Registers are spilled to local memory in function 'triton_gemm_dot_178', 540 bytes spill stores, 540 bytes spill loads\n",
      "\n"
     ]
    },
    {
     "name": "stdout",
     "output_type": "stream",
     "text": [
      "\u001b[1m259/259\u001b[0m \u001b[32m━━━━━━━━━━━━━━━━━━━━\u001b[0m\u001b[37m\u001b[0m \u001b[1m42s\u001b[0m 99ms/step - accuracy: 0.4942 - loss: 1.4086 - val_accuracy: 0.8025 - val_loss: 0.4800\n",
      "Epoch 2/10\n",
      "\u001b[1m259/259\u001b[0m \u001b[32m━━━━━━━━━━━━━━━━━━━━\u001b[0m\u001b[37m\u001b[0m \u001b[1m17s\u001b[0m 67ms/step - accuracy: 0.7868 - loss: 0.5417 - val_accuracy: 0.8350 - val_loss: 0.4777\n",
      "Epoch 3/10\n",
      "\u001b[1m259/259\u001b[0m \u001b[32m━━━━━━━━━━━━━━━━━━━━\u001b[0m\u001b[37m\u001b[0m \u001b[1m17s\u001b[0m 65ms/step - accuracy: 0.8710 - loss: 0.3475 - val_accuracy: 0.8150 - val_loss: 0.4452\n",
      "Epoch 4/10\n",
      "\u001b[1m259/259\u001b[0m \u001b[32m━━━━━━━━━━━━━━━━━━━━\u001b[0m\u001b[37m\u001b[0m \u001b[1m17s\u001b[0m 65ms/step - accuracy: 0.9048 - loss: 0.2482 - val_accuracy: 0.8537 - val_loss: 0.3930\n",
      "Epoch 5/10\n",
      "\u001b[1m259/259\u001b[0m \u001b[32m━━━━━━━━━━━━━━━━━━━━\u001b[0m\u001b[37m\u001b[0m \u001b[1m17s\u001b[0m 66ms/step - accuracy: 0.9376 - loss: 0.1820 - val_accuracy: 0.9162 - val_loss: 0.2323\n",
      "Epoch 6/10\n",
      "\u001b[1m259/259\u001b[0m \u001b[32m━━━━━━━━━━━━━━━━━━━━\u001b[0m\u001b[37m\u001b[0m \u001b[1m17s\u001b[0m 67ms/step - accuracy: 0.9554 - loss: 0.1325 - val_accuracy: 0.8813 - val_loss: 0.3822\n",
      "Epoch 7/10\n",
      "\u001b[1m259/259\u001b[0m \u001b[32m━━━━━━━━━━━━━━━━━━━━\u001b[0m\u001b[37m\u001b[0m \u001b[1m17s\u001b[0m 67ms/step - accuracy: 0.9658 - loss: 0.1054 - val_accuracy: 0.9250 - val_loss: 0.2325\n",
      "Epoch 8/10\n",
      "\u001b[1m259/259\u001b[0m \u001b[32m━━━━━━━━━━━━━━━━━━━━\u001b[0m\u001b[37m\u001b[0m \u001b[1m18s\u001b[0m 68ms/step - accuracy: 0.9706 - loss: 0.0918 - val_accuracy: 0.8975 - val_loss: 0.3916\n",
      "Epoch 9/10\n",
      "\u001b[1m259/259\u001b[0m \u001b[32m━━━━━━━━━━━━━━━━━━━━\u001b[0m\u001b[37m\u001b[0m \u001b[1m17s\u001b[0m 67ms/step - accuracy: 0.9702 - loss: 0.1030 - val_accuracy: 0.8925 - val_loss: 0.4388\n",
      "Epoch 10/10\n",
      "\u001b[1m259/259\u001b[0m \u001b[32m━━━━━━━━━━━━━━━━━━━━\u001b[0m\u001b[37m\u001b[0m \u001b[1m17s\u001b[0m 67ms/step - accuracy: 0.9762 - loss: 0.0700 - val_accuracy: 0.8700 - val_loss: 0.6311\n"
     ]
    }
   ],
   "source": [
    "train_his = model.fit(x=train, validation_data=val, epochs=10, batch_size=8)"
   ]
  },
  {
   "cell_type": "code",
   "execution_count": 13,
   "metadata": {},
   "outputs": [
    {
     "data": {
      "image/png": "[encoded data removed]",
      "text/plain": [
       "<Figure size 640x480 with 1 Axes>"
      ]
     },
     "metadata": {},
     "output_type": "display_data"
    }
   ],
   "source": [
    "epochs = [i for i in range(1,11)]\n",
    "plt.plot(epochs,train_his.history['accuracy'], color='red', label='Training Accuracy')\n",
    "plt.plot(epochs,train_his.history['val_accuracy'], color='blue', label='Validation Accuracy')\n",
    "plt.xlabel('No. of Epochs')\n",
    "plt.ylabel('Accuracy')\n",
    "plt.legend()\n",
    "plt.show()"
   ]
  },
  {
   "cell_type": "code",
   "execution_count": 14,
   "metadata": {},
   "outputs": [
    {
     "data": {
      "text/plain": [
       "['healthy', 'sick_no_tb', 'tb']"
      ]
     },
     "execution_count": 14,
     "metadata": {},
     "output_type": "execute_result"
    }
   ],
   "source": [
    "classname = val.class_names\n",
    "classname\n"
   ]
  },
  {
   "cell_type": "code",
   "execution_count": 15,
   "metadata": {},
   "outputs": [
    {
     "name": "stdout",
     "output_type": "stream",
     "text": [
      "\u001b[1m35/37\u001b[0m \u001b[32m━━━━━━━━━━━━━━━━━━\u001b[0m\u001b[37m━━\u001b[0m \u001b[1m0s\u001b[0m 21ms/step"
     ]
    },
    {
     "name": "stderr",
     "output_type": "stream",
     "text": [
      "I0000 00:00:1726319367.922470   99433 asm_compiler.cc:369] ptxas warning : Registers are spilled to local memory in function 'triton_gemm_dot_147', 528 bytes spill stores, 524 bytes spill loads\n",
      "\n"
     ]
    },
    {
     "name": "stdout",
     "output_type": "stream",
     "text": [
      "\u001b[1m37/37\u001b[0m \u001b[32m━━━━━━━━━━━━━━━━━━━━\u001b[0m\u001b[37m\u001b[0m \u001b[1m3s\u001b[0m 81ms/step\n"
     ]
    },
    {
     "data": {
      "text/plain": [
       "(array([[1.00000000e+00, 2.58643116e-08, 3.15722133e-08],\n",
       "        [9.42950666e-01, 9.32789512e-10, 5.70493042e-02],\n",
       "        [7.91613042e-01, 1.95117101e-01, 1.32698379e-02],\n",
       "        [5.59764728e-02, 8.78342628e-01, 6.56808540e-02],\n",
       "        [9.98425961e-01, 2.65818070e-08, 1.57406810e-03],\n",
       "        [2.22347737e-15, 2.49458576e-13, 1.00000000e+00],\n",
       "        [5.19722179e-02, 9.47478414e-01, 5.49326185e-04],\n",
       "        [1.90308597e-07, 9.99785483e-01, 2.14296568e-04],\n",
       "        [2.15230836e-03, 2.47484621e-07, 9.97847438e-01],\n",
       "        [1.00000000e+00, 3.80932638e-14, 3.03791925e-09],\n",
       "        [1.20224841e-01, 1.18773477e-02, 8.67897809e-01],\n",
       "        [9.99999881e-01, 1.91818811e-10, 9.49433883e-08],\n",
       "        [3.37157137e-04, 9.55887318e-01, 4.37754802e-02],\n",
       "        [1.00000000e+00, 1.73461336e-16, 2.24402597e-11],\n",
       "        [2.41538771e-07, 2.46785930e-03, 9.97531891e-01],\n",
       "        [9.99999881e-01, 2.64927767e-11, 1.37930812e-07],\n",
       "        [1.49643384e-07, 9.93976474e-01, 6.02335250e-03],\n",
       "        [9.99999642e-01, 1.08661899e-10, 3.01918817e-07],\n",
       "        [9.66103892e-14, 2.61067348e-11, 1.00000000e+00],\n",
       "        [9.99932170e-01, 2.78183961e-07, 6.75565316e-05],\n",
       "        [3.58750937e-15, 9.08134817e-11, 1.00000000e+00],\n",
       "        [9.99621749e-01, 3.36285422e-09, 3.78239260e-04],\n",
       "        [1.13257238e-06, 1.68751671e-06, 9.99997139e-01],\n",
       "        [1.00000000e+00, 2.60542911e-12, 6.65858879e-09],\n",
       "        [2.02177744e-02, 9.24313366e-01, 5.54688908e-02],\n",
       "        [1.00000000e+00, 1.83639047e-14, 2.47059773e-09],\n",
       "        [1.94369328e-28, 2.36897198e-25, 1.00000000e+00],\n",
       "        [2.75000304e-01, 9.85471415e-05, 7.24901140e-01],\n",
       "        [1.39074922e-13, 3.24323124e-09, 1.00000000e+00],\n",
       "        [9.99999166e-01, 1.27662227e-08, 8.87423823e-07],\n",
       "        [2.73574727e-07, 2.28656560e-07, 9.99999523e-01],\n",
       "        [3.81681900e-07, 2.10270779e-09, 9.99999642e-01],\n",
       "        [4.27203395e-06, 5.06199513e-07, 9.99995232e-01],\n",
       "        [2.54168725e-07, 9.98805761e-01, 1.19398744e-03],\n",
       "        [7.91380253e-13, 6.17146568e-12, 1.00000000e+00],\n",
       "        [7.30390720e-18, 3.62447615e-12, 1.00000000e+00],\n",
       "        [9.99999881e-01, 9.36356881e-10, 1.01760357e-07],\n",
       "        [9.99981642e-01, 1.83697892e-08, 1.83444681e-05],\n",
       "        [9.99988675e-01, 1.07575708e-08, 1.13091528e-05],\n",
       "        [1.00000000e+00, 2.62314181e-11, 6.29066443e-09],\n",
       "        [4.97078377e-12, 8.62076692e-03, 9.91379261e-01],\n",
       "        [1.64005129e-07, 9.99845624e-01, 1.54253896e-04],\n",
       "        [1.48469629e-02, 4.11573499e-01, 5.73579550e-01],\n",
       "        [2.34301756e-09, 3.40576560e-11, 1.00000000e+00],\n",
       "        [2.37257680e-09, 4.67693384e-11, 1.00000000e+00],\n",
       "        [6.52260797e-12, 4.55582072e-10, 1.00000000e+00],\n",
       "        [3.48689838e-07, 2.05784533e-02, 9.79421139e-01],\n",
       "        [9.99926209e-01, 7.31498684e-09, 7.38108283e-05],\n",
       "        [9.99993801e-01, 6.42052939e-11, 6.15481849e-06],\n",
       "        [9.99942899e-01, 1.09822214e-08, 5.70809098e-05],\n",
       "        [1.00000000e+00, 4.13731803e-15, 3.23888081e-08],\n",
       "        [3.63903403e-01, 3.52187967e-03, 6.32574737e-01],\n",
       "        [5.95184871e-13, 2.55845178e-10, 1.00000000e+00],\n",
       "        [2.02033880e-05, 9.74092305e-01, 2.58875731e-02],\n",
       "        [5.53093478e-02, 2.37980770e-04, 9.44452703e-01],\n",
       "        [5.03153889e-04, 9.88568902e-01, 1.09278699e-02],\n",
       "        [3.05591291e-03, 8.69450152e-01, 1.27493963e-01],\n",
       "        [2.80300683e-05, 9.99036551e-01, 9.35435761e-04],\n",
       "        [1.74480028e-05, 4.53330504e-05, 9.99937177e-01],\n",
       "        [5.02817631e-02, 9.39958513e-01, 9.75972787e-03],\n",
       "        [5.26390579e-07, 9.99791801e-01, 2.07771227e-04],\n",
       "        [9.99999642e-01, 1.82828093e-11, 3.07399233e-07],\n",
       "        [6.21679597e-09, 9.99763668e-01, 2.36371445e-04],\n",
       "        [1.20148347e-12, 2.05723882e-06, 9.99997973e-01],\n",
       "        [3.32141710e-08, 9.99956131e-01, 4.38714269e-05],\n",
       "        [7.89611135e-03, 8.69868398e-01, 1.22235522e-01],\n",
       "        [9.99999881e-01, 1.66705851e-11, 1.32049635e-07],\n",
       "        [1.48193374e-01, 4.90405764e-05, 8.51757586e-01],\n",
       "        [1.00000000e+00, 1.58872092e-14, 1.55922331e-10],\n",
       "        [6.02571187e-11, 9.99997973e-01, 2.00601175e-06],\n",
       "        [1.00000000e+00, 3.60234099e-11, 4.01406552e-08],\n",
       "        [9.99999166e-01, 2.22666711e-11, 8.00594421e-07],\n",
       "        [2.61701993e-04, 9.52791929e-01, 4.69463542e-02],\n",
       "        [9.99997973e-01, 2.94614722e-10, 2.00990098e-06],\n",
       "        [6.44392228e-09, 9.99975204e-01, 2.48265114e-05],\n",
       "        [1.00000000e+00, 1.48186869e-13, 2.94772295e-09],\n",
       "        [8.98435354e-01, 1.77702386e-05, 1.01546913e-01],\n",
       "        [2.66205490e-07, 9.99996901e-01, 2.82441692e-06],\n",
       "        [3.87662239e-02, 9.37811732e-01, 2.34220736e-02],\n",
       "        [3.51509516e-05, 7.13725448e-01, 2.86239415e-01],\n",
       "        [4.05700892e-01, 1.26345633e-02, 5.81664562e-01],\n",
       "        [3.23106069e-05, 3.27146709e-01, 6.72820985e-01],\n",
       "        [2.51030087e-06, 1.39946202e-02, 9.86002922e-01],\n",
       "        [7.43014971e-04, 9.77383494e-01, 2.18735449e-02],\n",
       "        [4.68351438e-08, 9.99996781e-01, 3.21942639e-06],\n",
       "        [6.51205951e-08, 1.07104370e-06, 9.99998808e-01],\n",
       "        [1.56357200e-13, 8.31491733e-12, 1.00000000e+00],\n",
       "        [9.99997139e-01, 5.57039037e-08, 2.84695534e-06],\n",
       "        [2.20243201e-01, 8.29440579e-02, 6.96812749e-01],\n",
       "        [6.45202160e-01, 2.58447900e-02, 3.28953028e-01],\n",
       "        [3.02015977e-08, 9.99971032e-01, 2.89809996e-05],\n",
       "        [9.98977423e-01, 7.50122354e-06, 1.01515232e-03],\n",
       "        [7.84888314e-08, 9.95856345e-01, 4.14347183e-03],\n",
       "        [9.99996901e-01, 1.79176517e-11, 3.05134654e-06],\n",
       "        [9.99999762e-01, 8.25451632e-13, 1.91189741e-07],\n",
       "        [5.07533364e-02, 9.47711110e-01, 1.53552985e-03],\n",
       "        [1.88020858e-05, 9.93372440e-01, 6.60874695e-03],\n",
       "        [2.96405097e-03, 1.97413974e-05, 9.97016191e-01],\n",
       "        [1.85934082e-03, 1.79084879e-03, 9.96349812e-01],\n",
       "        [9.99999642e-01, 7.58549690e-13, 3.20388693e-07],\n",
       "        [8.52928439e-04, 9.97936487e-01, 1.21060188e-03],\n",
       "        [8.29490375e-07, 9.99973774e-01, 2.54060560e-05],\n",
       "        [4.74529862e-01, 1.66841695e-04, 5.25303304e-01],\n",
       "        [9.99996305e-01, 3.18439618e-07, 3.29256363e-06],\n",
       "        [4.75483335e-04, 6.59808517e-02, 9.33543682e-01],\n",
       "        [7.01721262e-07, 9.99901414e-01, 9.78660391e-05],\n",
       "        [2.04816970e-07, 9.82702613e-01, 1.72971077e-02],\n",
       "        [2.47050504e-08, 1.90229312e-05, 9.99980927e-01],\n",
       "        [9.99999881e-01, 2.43332327e-10, 7.77956117e-08],\n",
       "        [1.00000000e+00, 6.69696449e-13, 8.44309622e-10],\n",
       "        [1.00000000e+00, 1.28893489e-12, 1.19069243e-09],\n",
       "        [1.25269565e-07, 9.77052689e-01, 2.29472388e-02],\n",
       "        [7.89573917e-09, 2.56772154e-07, 9.99999762e-01],\n",
       "        [1.00000000e+00, 4.50359612e-13, 1.59446341e-08],\n",
       "        [8.11557129e-06, 1.30866596e-07, 9.99991775e-01],\n",
       "        [4.90251531e-15, 5.41445483e-14, 1.00000000e+00],\n",
       "        [1.18317205e-08, 2.13532303e-06, 9.99997854e-01],\n",
       "        [9.39322889e-01, 7.78444996e-03, 5.28926849e-02],\n",
       "        [9.98057903e-09, 8.05565179e-08, 9.99999881e-01],\n",
       "        [1.00000000e+00, 2.18329008e-10, 3.85544752e-08],\n",
       "        [2.67945667e-04, 1.81214735e-01, 8.18517268e-01],\n",
       "        [5.11520283e-14, 2.41774425e-01, 7.58225560e-01],\n",
       "        [5.21012731e-02, 7.31605887e-01, 2.16292813e-01],\n",
       "        [2.24757036e-06, 3.98446899e-03, 9.96013284e-01],\n",
       "        [1.00000000e+00, 1.43135059e-10, 3.45925848e-08],\n",
       "        [4.67625186e-02, 5.99372089e-01, 3.53865385e-01],\n",
       "        [4.73046498e-07, 1.90370493e-08, 9.99999523e-01],\n",
       "        [8.08790574e-05, 9.43852186e-01, 5.60669042e-02],\n",
       "        [1.76761009e-10, 9.99870300e-01, 1.29637760e-04],\n",
       "        [1.93163228e-11, 4.02270509e-11, 1.00000000e+00],\n",
       "        [9.99993801e-01, 3.12131796e-08, 6.20464152e-06],\n",
       "        [1.47088954e-07, 9.98582840e-01, 1.41711358e-03],\n",
       "        [4.34807189e-05, 3.62982929e-01, 6.36973619e-01],\n",
       "        [3.42133988e-09, 9.99947667e-01, 5.22918963e-05],\n",
       "        [8.78527226e-06, 9.98149037e-01, 1.84212835e-03],\n",
       "        [4.59666262e-05, 1.64757785e-03, 9.98306394e-01],\n",
       "        [1.00000000e+00, 1.15659760e-12, 6.50663834e-09],\n",
       "        [9.47286010e-01, 2.82264518e-05, 5.26857749e-02],\n",
       "        [9.99999762e-01, 1.53662236e-10, 2.72837724e-07],\n",
       "        [1.00000000e+00, 3.24321542e-11, 3.31386629e-09],\n",
       "        [1.00000000e+00, 2.92699011e-15, 3.23268717e-10],\n",
       "        [3.26638497e-06, 2.42985995e-03, 9.97566938e-01],\n",
       "        [9.99869943e-01, 7.27399163e-09, 1.30077329e-04],\n",
       "        [1.37235655e-03, 1.23757445e-06, 9.98626471e-01],\n",
       "        [1.16781371e-06, 6.80275336e-02, 9.31971252e-01],\n",
       "        [9.99998450e-01, 4.01837157e-12, 1.59134072e-06],\n",
       "        [1.00000000e+00, 2.10405508e-14, 4.69696326e-09],\n",
       "        [9.87673223e-01, 1.74790375e-06, 1.23250345e-02],\n",
       "        [3.29801103e-10, 3.18543329e-07, 9.99999642e-01],\n",
       "        [5.83668414e-04, 1.02509421e-05, 9.99406099e-01],\n",
       "        [9.99999881e-01, 6.95421706e-11, 7.60880425e-08],\n",
       "        [2.92419118e-05, 9.99961376e-01, 9.46424279e-06],\n",
       "        [2.87039757e-06, 9.80466306e-01, 1.95307285e-02],\n",
       "        [9.99992847e-01, 1.55885235e-10, 7.16415934e-06],\n",
       "        [9.44185674e-01, 5.57397939e-02, 7.45608413e-05],\n",
       "        [3.25813545e-08, 2.06769750e-04, 9.99793231e-01],\n",
       "        [1.00000000e+00, 1.78301240e-15, 7.16887483e-09],\n",
       "        [1.00000000e+00, 2.84321473e-11, 4.61428726e-08],\n",
       "        [2.64931977e-01, 7.98209943e-03, 7.27085888e-01],\n",
       "        [6.94741675e-06, 8.19552019e-02, 9.18037891e-01],\n",
       "        [7.01351466e-09, 1.56636375e-08, 1.00000000e+00],\n",
       "        [9.99977469e-01, 2.66835703e-11, 2.24895048e-05],\n",
       "        [9.99999523e-01, 2.81644204e-11, 4.29845073e-07],\n",
       "        [1.58656360e-06, 1.43825650e-06, 9.99997020e-01],\n",
       "        [1.39885935e-06, 3.60817611e-01, 6.39180958e-01],\n",
       "        [9.99998927e-01, 1.76975365e-10, 1.03184641e-06],\n",
       "        [9.99958277e-01, 7.43614281e-10, 4.17364863e-05],\n",
       "        [9.99998450e-01, 7.29404093e-10, 1.60487286e-06],\n",
       "        [1.54677853e-01, 1.53157771e-01, 6.92164302e-01],\n",
       "        [2.36227042e-05, 9.96702731e-01, 3.27358791e-03],\n",
       "        [8.18733661e-15, 4.13398205e-11, 1.00000000e+00],\n",
       "        [1.00000000e+00, 2.24120801e-14, 9.11117737e-10],\n",
       "        [9.99999881e-01, 3.65154129e-10, 1.33021601e-07],\n",
       "        [3.57691735e-01, 7.98949681e-04, 6.41509295e-01],\n",
       "        [3.01687978e-03, 4.02890237e-06, 9.96979117e-01],\n",
       "        [1.59294000e-08, 2.08148180e-07, 9.99999762e-01],\n",
       "        [2.50788673e-07, 9.98876154e-01, 1.12365047e-03],\n",
       "        [4.78343452e-07, 4.73569155e-01, 5.26430368e-01],\n",
       "        [1.00000000e+00, 1.23668968e-12, 2.06897699e-08],\n",
       "        [7.96413022e-12, 2.18237303e-02, 9.78176296e-01],\n",
       "        [6.19468265e-05, 9.94578362e-01, 5.35972975e-03],\n",
       "        [3.74621322e-07, 8.71762991e-01, 1.28236651e-01],\n",
       "        [2.22260899e-09, 6.76257116e-07, 9.99999285e-01],\n",
       "        [9.99988317e-01, 3.84511178e-09, 1.16979663e-05],\n",
       "        [4.14032225e-13, 1.27953941e-11, 1.00000000e+00],\n",
       "        [1.00000000e+00, 6.81890135e-12, 4.67936578e-09],\n",
       "        [8.69636665e-08, 2.29072824e-01, 7.70927072e-01],\n",
       "        [1.71702937e-04, 2.49635912e-02, 9.74864662e-01],\n",
       "        [9.99978065e-01, 8.04725619e-09, 2.19713565e-05],\n",
       "        [3.98410339e-06, 3.91266376e-01, 6.08729601e-01],\n",
       "        [1.00000000e+00, 2.41402558e-12, 1.40072256e-08],\n",
       "        [1.00000000e+00, 7.08168195e-16, 1.40507272e-09],\n",
       "        [9.70163643e-01, 1.67263614e-03, 2.81637050e-02],\n",
       "        [5.93914374e-05, 1.70578435e-02, 9.82882798e-01],\n",
       "        [6.03490946e-09, 2.75269429e-09, 1.00000000e+00],\n",
       "        [1.11296605e-02, 7.75801092e-02, 9.11290228e-01],\n",
       "        [2.45225456e-05, 1.74209993e-06, 9.99973774e-01],\n",
       "        [8.43116941e-05, 9.46263850e-01, 5.36519438e-02],\n",
       "        [9.99999404e-01, 3.26106572e-11, 6.16771217e-07],\n",
       "        [2.98705618e-06, 9.90121126e-01, 9.87597927e-03],\n",
       "        [9.99997616e-01, 1.53166302e-09, 2.39466340e-06],\n",
       "        [1.26058686e-18, 6.81751544e-14, 1.00000000e+00],\n",
       "        [1.17967298e-08, 9.99763668e-01, 2.36309003e-04],\n",
       "        [4.64635521e-01, 5.21961808e-01, 1.34027181e-02],\n",
       "        [3.14562271e-06, 9.98981774e-01, 1.01507350e-03],\n",
       "        [1.41384182e-04, 9.99642611e-01, 2.16049244e-04],\n",
       "        [1.07123423e-03, 3.78940292e-02, 9.61034715e-01],\n",
       "        [3.06765432e-04, 7.83372879e-01, 2.16320381e-01],\n",
       "        [9.83630359e-01, 1.16086174e-09, 1.63696781e-02],\n",
       "        [4.26828564e-07, 2.01322228e-01, 7.98677325e-01],\n",
       "        [1.00000000e+00, 1.10562696e-11, 5.41963736e-08],\n",
       "        [2.08723563e-07, 9.93818820e-01, 6.18091132e-03],\n",
       "        [9.99999285e-01, 1.64163891e-10, 7.24184531e-07],\n",
       "        [1.00000000e+00, 1.40765844e-13, 3.56173468e-09],\n",
       "        [9.99999285e-01, 4.14810131e-11, 7.45643604e-07],\n",
       "        [5.39772884e-08, 9.98696864e-01, 1.30312762e-03],\n",
       "        [4.15078290e-02, 7.52135587e-04, 9.57740009e-01],\n",
       "        [1.86593782e-23, 7.24181323e-19, 1.00000000e+00],\n",
       "        [9.99957919e-01, 3.32168737e-09, 4.20307733e-05],\n",
       "        [9.99994278e-01, 1.69604419e-09, 5.72045792e-06],\n",
       "        [1.00000000e+00, 3.51069705e-13, 7.97933719e-10],\n",
       "        [9.99999046e-01, 1.60354178e-11, 9.47964395e-07],\n",
       "        [9.24613297e-01, 5.99241332e-07, 7.53860995e-02],\n",
       "        [5.17041008e-05, 2.48076916e-01, 7.51871407e-01],\n",
       "        [1.00000000e+00, 2.20533244e-15, 1.27169475e-08],\n",
       "        [1.00000000e+00, 1.43672987e-15, 6.21271423e-10],\n",
       "        [1.46569393e-04, 7.06117272e-01, 2.93736190e-01],\n",
       "        [4.97017879e-07, 9.98952389e-01, 1.04706036e-03],\n",
       "        [7.90604702e-07, 9.99948263e-01, 5.09398014e-05],\n",
       "        [9.99997854e-01, 1.09623047e-10, 2.10168469e-06],\n",
       "        [1.50425870e-19, 2.31465492e-14, 1.00000000e+00],\n",
       "        [9.99998450e-01, 8.62544498e-12, 1.58765113e-06],\n",
       "        [1.17311711e-05, 9.96982276e-01, 3.00594047e-03],\n",
       "        [9.99999642e-01, 1.78044113e-09, 3.98961049e-07],\n",
       "        [1.62669860e-08, 9.99997735e-01, 2.32190405e-06],\n",
       "        [9.99998927e-01, 6.73182676e-10, 1.07364554e-06],\n",
       "        [9.99999881e-01, 3.27946633e-12, 7.81595588e-08],\n",
       "        [1.00000000e+00, 1.16918152e-14, 1.28647523e-10],\n",
       "        [5.33458173e-01, 2.81248242e-01, 1.85293600e-01],\n",
       "        [9.99999881e-01, 1.42394441e-09, 1.30079044e-07],\n",
       "        [1.95442666e-07, 9.99972582e-01, 2.72267334e-05],\n",
       "        [1.00000000e+00, 2.33991760e-17, 8.90326615e-12],\n",
       "        [3.72852266e-01, 2.72358684e-05, 6.27120495e-01],\n",
       "        [8.09956077e-07, 9.99642730e-01, 3.56453966e-04],\n",
       "        [2.17484339e-05, 9.88810301e-01, 1.11678680e-02],\n",
       "        [9.99999523e-01, 3.62857548e-07, 1.47326574e-07],\n",
       "        [4.73189044e-09, 1.36765073e-06, 9.99998569e-01],\n",
       "        [9.99999881e-01, 2.36326339e-13, 7.81564253e-08],\n",
       "        [9.99979377e-01, 2.65525602e-09, 2.05658562e-05],\n",
       "        [3.03160578e-01, 4.03474784e-04, 6.96435869e-01],\n",
       "        [9.98045921e-01, 6.29504598e-07, 1.95343886e-03],\n",
       "        [1.00000000e+00, 6.68647266e-13, 7.01639147e-09],\n",
       "        [6.42575557e-08, 7.74405301e-02, 9.22559440e-01],\n",
       "        [9.99999762e-01, 9.08710274e-10, 2.06935269e-07],\n",
       "        [1.77631897e-04, 2.48763580e-02, 9.74946022e-01],\n",
       "        [1.00000000e+00, 1.96314224e-13, 4.93623631e-08],\n",
       "        [2.65697781e-06, 3.31326446e-05, 9.99964237e-01],\n",
       "        [9.99999881e-01, 2.55977906e-10, 1.53311490e-07],\n",
       "        [2.51647907e-05, 1.04706101e-02, 9.89504218e-01],\n",
       "        [9.99999523e-01, 1.92727234e-09, 4.85282953e-07],\n",
       "        [9.99994636e-01, 1.01115984e-06, 4.41312068e-06],\n",
       "        [5.27099194e-03, 8.44710648e-01, 1.50018334e-01],\n",
       "        [3.70635021e-14, 2.02149721e-11, 1.00000000e+00],\n",
       "        [1.54989448e-06, 4.08911824e-01, 5.91086626e-01],\n",
       "        [2.22771380e-15, 6.18259388e-10, 1.00000000e+00],\n",
       "        [4.19960406e-06, 7.39161354e-09, 9.99995828e-01],\n",
       "        [1.00000000e+00, 3.87250207e-15, 4.14556750e-10],\n",
       "        [4.39076312e-03, 8.72290581e-02, 9.08380210e-01],\n",
       "        [1.82355536e-04, 1.51708673e-06, 9.99816120e-01],\n",
       "        [8.32012574e-07, 9.98635232e-01, 1.36385974e-03],\n",
       "        [1.94235808e-10, 1.92883035e-05, 9.99980688e-01],\n",
       "        [9.99999523e-01, 8.15203634e-12, 5.11173198e-07],\n",
       "        [9.99999642e-01, 7.12016501e-10, 3.93798899e-07],\n",
       "        [9.99785244e-01, 4.24446938e-07, 2.14250540e-04],\n",
       "        [1.00000000e+00, 2.46744951e-11, 3.47442075e-08],\n",
       "        [1.29761202e-09, 2.48575844e-07, 9.99999762e-01],\n",
       "        [9.99953628e-01, 2.17886566e-07, 4.61430027e-05],\n",
       "        [1.00000000e+00, 6.91796898e-11, 7.78943221e-09],\n",
       "        [9.99985099e-01, 2.75555290e-09, 1.48418630e-05],\n",
       "        [1.00000000e+00, 7.76103140e-13, 4.94940400e-09],\n",
       "        [9.99999881e-01, 1.91976834e-11, 7.60553931e-08],\n",
       "        [9.99706328e-01, 8.13073555e-08, 2.93475459e-04],\n",
       "        [3.98350221e-06, 9.93165195e-01, 6.83081103e-03],\n",
       "        [9.99860764e-01, 1.35666266e-06, 1.37949450e-04],\n",
       "        [8.89038444e-02, 7.10933364e-07, 9.11095440e-01],\n",
       "        [5.29699751e-09, 1.55410390e-07, 9.99999881e-01],\n",
       "        [3.06120757e-02, 4.85439152e-01, 4.83948827e-01],\n",
       "        [9.99973416e-01, 9.58357838e-09, 2.65479521e-05],\n",
       "        [6.92627040e-08, 9.99910355e-01, 8.95557605e-05],\n",
       "        [1.00000000e+00, 4.07761195e-12, 1.57064797e-08],\n",
       "        [1.00000000e+00, 1.35110522e-14, 6.62420963e-09]], dtype=float32),\n",
       " (291, 3))"
      ]
     },
     "execution_count": 15,
     "metadata": {},
     "output_type": "execute_result"
    }
   ],
   "source": [
    "pred = model.predict(val)\n",
    "pred, pred.shape"
   ]
  },
  {
   "cell_type": "code",
   "execution_count": 16,
   "metadata": {},
   "outputs": [
    {
     "data": {
      "text/plain": [
       "<tf.Tensor: shape=(291,), dtype=int64, numpy=\n",
       "array([0, 0, 0, 1, 0, 2, 1, 1, 2, 0, 2, 0, 1, 0, 2, 0, 1, 0, 2, 0, 2, 0,\n",
       "       2, 0, 1, 0, 2, 2, 2, 0, 2, 2, 2, 1, 2, 2, 0, 0, 0, 0, 2, 1, 2, 2,\n",
       "       2, 2, 2, 0, 0, 0, 0, 2, 2, 1, 2, 1, 1, 1, 2, 1, 1, 0, 1, 2, 1, 1,\n",
       "       0, 2, 0, 1, 0, 0, 1, 0, 1, 0, 0, 1, 1, 1, 2, 2, 2, 1, 1, 2, 2, 0,\n",
       "       2, 0, 1, 0, 1, 0, 0, 1, 1, 2, 2, 0, 1, 1, 2, 0, 2, 1, 1, 2, 0, 0,\n",
       "       0, 1, 2, 0, 2, 2, 2, 0, 2, 0, 2, 2, 1, 2, 0, 1, 2, 1, 1, 2, 0, 1,\n",
       "       2, 1, 1, 2, 0, 0, 0, 0, 0, 2, 0, 2, 2, 0, 0, 0, 2, 2, 0, 1, 1, 0,\n",
       "       0, 2, 0, 0, 2, 2, 2, 0, 0, 2, 2, 0, 0, 0, 2, 1, 2, 0, 0, 2, 2, 2,\n",
       "       1, 2, 0, 2, 1, 1, 2, 0, 2, 0, 2, 2, 0, 2, 0, 0, 0, 2, 2, 2, 2, 1,\n",
       "       0, 1, 0, 2, 1, 1, 1, 1, 2, 1, 0, 2, 0, 1, 0, 0, 0, 1, 2, 2, 0, 0,\n",
       "       0, 0, 0, 2, 0, 0, 1, 1, 1, 0, 2, 0, 1, 0, 1, 0, 0, 0, 0, 0, 1, 0,\n",
       "       2, 1, 1, 0, 2, 0, 0, 2, 0, 0, 2, 0, 2, 0, 2, 0, 2, 0, 0, 1, 2, 2,\n",
       "       2, 2, 0, 2, 2, 1, 2, 0, 0, 0, 0, 2, 0, 0, 0, 0, 0, 0, 1, 0, 2, 2,\n",
       "       1, 0, 1, 0, 0])>"
      ]
     },
     "execution_count": 16,
     "metadata": {},
     "output_type": "execute_result"
    }
   ],
   "source": [
    "pred_cat = tf.argmax(pred, axis=1)\n",
    "pred_cat"
   ]
  },
  {
   "cell_type": "code",
   "execution_count": 18,
   "metadata": {},
   "outputs": [
    {
     "name": "stderr",
     "output_type": "stream",
     "text": [
      "2024-09-14 18:39:48.333136: W tensorflow/core/framework/local_rendezvous.cc:404] Local rendezvous is aborting with status: OUT_OF_RANGE: End of sequence\n"
     ]
    },
    {
     "data": {
      "text/plain": [
       "<tf.Tensor: shape=(291, 3), dtype=float32, numpy=\n",
       "array([[1., 0., 0.],\n",
       "       [0., 1., 0.],\n",
       "       [1., 0., 0.],\n",
       "       [0., 0., 1.],\n",
       "       [0., 0., 1.],\n",
       "       [0., 0., 1.],\n",
       "       [0., 0., 1.],\n",
       "       [1., 0., 0.],\n",
       "       [0., 1., 0.],\n",
       "       [0., 0., 1.],\n",
       "       [1., 0., 0.],\n",
       "       [0., 0., 1.],\n",
       "       [0., 0., 1.],\n",
       "       [1., 0., 0.],\n",
       "       [1., 0., 0.],\n",
       "       [0., 1., 0.],\n",
       "       [0., 0., 1.],\n",
       "       [0., 1., 0.],\n",
       "       [0., 1., 0.],\n",
       "       [0., 0., 1.],\n",
       "       [0., 1., 0.],\n",
       "       [0., 1., 0.],\n",
       "       [0., 1., 0.],\n",
       "       [0., 1., 0.],\n",
       "       [0., 1., 0.],\n",
       "       [0., 0., 1.],\n",
       "       [1., 0., 0.],\n",
       "       [1., 0., 0.],\n",
       "       [0., 0., 1.],\n",
       "       [0., 0., 1.],\n",
       "       [0., 1., 0.],\n",
       "       [0., 1., 0.],\n",
       "       [0., 1., 0.],\n",
       "       [1., 0., 0.],\n",
       "       [0., 1., 0.],\n",
       "       [0., 1., 0.],\n",
       "       [0., 0., 1.],\n",
       "       [0., 1., 0.],\n",
       "       [1., 0., 0.],\n",
       "       [0., 1., 0.],\n",
       "       [0., 1., 0.],\n",
       "       [0., 1., 0.],\n",
       "       [0., 0., 1.],\n",
       "       [0., 0., 1.],\n",
       "       [1., 0., 0.],\n",
       "       [0., 1., 0.],\n",
       "       [1., 0., 0.],\n",
       "       [0., 0., 1.],\n",
       "       [0., 0., 1.],\n",
       "       [0., 0., 1.],\n",
       "       [0., 0., 1.],\n",
       "       [1., 0., 0.],\n",
       "       [1., 0., 0.],\n",
       "       [0., 1., 0.],\n",
       "       [0., 0., 1.],\n",
       "       [1., 0., 0.],\n",
       "       [1., 0., 0.],\n",
       "       [0., 1., 0.],\n",
       "       [0., 1., 0.],\n",
       "       [0., 0., 1.],\n",
       "       [1., 0., 0.],\n",
       "       [1., 0., 0.],\n",
       "       [0., 1., 0.],\n",
       "       [0., 0., 1.],\n",
       "       [0., 1., 0.],\n",
       "       [1., 0., 0.],\n",
       "       [0., 1., 0.],\n",
       "       [0., 0., 1.],\n",
       "       [0., 0., 1.],\n",
       "       [1., 0., 0.],\n",
       "       [0., 1., 0.],\n",
       "       [0., 1., 0.],\n",
       "       [0., 1., 0.],\n",
       "       [0., 1., 0.],\n",
       "       [1., 0., 0.],\n",
       "       [0., 1., 0.],\n",
       "       [0., 1., 0.],\n",
       "       [0., 0., 1.],\n",
       "       [1., 0., 0.],\n",
       "       [0., 0., 1.],\n",
       "       [0., 0., 1.],\n",
       "       [1., 0., 0.],\n",
       "       [0., 0., 1.],\n",
       "       [0., 0., 1.],\n",
       "       [0., 0., 1.],\n",
       "       [1., 0., 0.],\n",
       "       [0., 1., 0.],\n",
       "       [0., 0., 1.],\n",
       "       [1., 0., 0.],\n",
       "       [1., 0., 0.],\n",
       "       [1., 0., 0.],\n",
       "       [0., 0., 1.],\n",
       "       [1., 0., 0.],\n",
       "       [0., 0., 1.],\n",
       "       [1., 0., 0.],\n",
       "       [0., 1., 0.],\n",
       "       [0., 1., 0.],\n",
       "       [0., 1., 0.],\n",
       "       [0., 0., 1.],\n",
       "       [1., 0., 0.],\n",
       "       [1., 0., 0.],\n",
       "       [1., 0., 0.],\n",
       "       [0., 1., 0.],\n",
       "       [0., 0., 1.],\n",
       "       [0., 1., 0.],\n",
       "       [1., 0., 0.],\n",
       "       [0., 1., 0.],\n",
       "       [0., 0., 1.],\n",
       "       [1., 0., 0.],\n",
       "       [0., 1., 0.],\n",
       "       [0., 1., 0.],\n",
       "       [1., 0., 0.],\n",
       "       [1., 0., 0.],\n",
       "       [0., 0., 1.],\n",
       "       [1., 0., 0.],\n",
       "       [0., 1., 0.],\n",
       "       [0., 0., 1.],\n",
       "       [0., 1., 0.],\n",
       "       [0., 0., 1.],\n",
       "       [0., 1., 0.],\n",
       "       [1., 0., 0.],\n",
       "       [1., 0., 0.],\n",
       "       [1., 0., 0.],\n",
       "       [0., 0., 1.],\n",
       "       [0., 0., 1.],\n",
       "       [0., 1., 0.],\n",
       "       [0., 0., 1.],\n",
       "       [1., 0., 0.],\n",
       "       [1., 0., 0.],\n",
       "       [0., 1., 0.],\n",
       "       [0., 1., 0.],\n",
       "       [0., 1., 0.],\n",
       "       [0., 1., 0.],\n",
       "       [0., 1., 0.],\n",
       "       [1., 0., 0.],\n",
       "       [0., 0., 1.],\n",
       "       [0., 0., 1.],\n",
       "       [0., 1., 0.],\n",
       "       [0., 1., 0.],\n",
       "       [1., 0., 0.],\n",
       "       [1., 0., 0.],\n",
       "       [1., 0., 0.],\n",
       "       [0., 1., 0.],\n",
       "       [1., 0., 0.],\n",
       "       [0., 1., 0.],\n",
       "       [0., 0., 1.],\n",
       "       [1., 0., 0.],\n",
       "       [0., 1., 0.],\n",
       "       [0., 1., 0.],\n",
       "       [0., 1., 0.],\n",
       "       [0., 0., 1.],\n",
       "       [0., 1., 0.],\n",
       "       [0., 1., 0.],\n",
       "       [1., 0., 0.],\n",
       "       [0., 0., 1.],\n",
       "       [0., 0., 1.],\n",
       "       [0., 1., 0.],\n",
       "       [1., 0., 0.],\n",
       "       [0., 1., 0.],\n",
       "       [0., 1., 0.],\n",
       "       [0., 1., 0.],\n",
       "       [0., 1., 0.],\n",
       "       [0., 0., 1.],\n",
       "       [0., 1., 0.],\n",
       "       [1., 0., 0.],\n",
       "       [1., 0., 0.],\n",
       "       [1., 0., 0.],\n",
       "       [0., 0., 1.],\n",
       "       [0., 0., 1.],\n",
       "       [0., 0., 1.],\n",
       "       [0., 1., 0.],\n",
       "       [0., 1., 0.],\n",
       "       [1., 0., 0.],\n",
       "       [1., 0., 0.],\n",
       "       [0., 0., 1.],\n",
       "       [0., 0., 1.],\n",
       "       [0., 0., 1.],\n",
       "       [0., 1., 0.],\n",
       "       [1., 0., 0.],\n",
       "       [1., 0., 0.],\n",
       "       [1., 0., 0.],\n",
       "       [1., 0., 0.],\n",
       "       [1., 0., 0.],\n",
       "       [1., 0., 0.],\n",
       "       [0., 1., 0.],\n",
       "       [0., 0., 1.],\n",
       "       [1., 0., 0.],\n",
       "       [0., 0., 1.],\n",
       "       [1., 0., 0.],\n",
       "       [1., 0., 0.],\n",
       "       [0., 1., 0.],\n",
       "       [0., 0., 1.],\n",
       "       [1., 0., 0.],\n",
       "       [0., 1., 0.],\n",
       "       [0., 1., 0.],\n",
       "       [1., 0., 0.],\n",
       "       [1., 0., 0.],\n",
       "       [1., 0., 0.],\n",
       "       [0., 0., 1.],\n",
       "       [0., 1., 0.],\n",
       "       [0., 1., 0.],\n",
       "       [1., 0., 0.],\n",
       "       [0., 1., 0.],\n",
       "       [1., 0., 0.],\n",
       "       [0., 1., 0.],\n",
       "       [1., 0., 0.],\n",
       "       [0., 0., 1.],\n",
       "       [1., 0., 0.],\n",
       "       [0., 1., 0.],\n",
       "       [1., 0., 0.],\n",
       "       [1., 0., 0.],\n",
       "       [0., 1., 0.],\n",
       "       [0., 0., 1.],\n",
       "       [1., 0., 0.],\n",
       "       [1., 0., 0.],\n",
       "       [0., 0., 1.],\n",
       "       [0., 1., 0.],\n",
       "       [0., 1., 0.],\n",
       "       [0., 1., 0.],\n",
       "       [0., 1., 0.],\n",
       "       [0., 1., 0.],\n",
       "       [0., 1., 0.],\n",
       "       [0., 0., 1.],\n",
       "       [1., 0., 0.],\n",
       "       [0., 1., 0.],\n",
       "       [0., 0., 1.],\n",
       "       [1., 0., 0.],\n",
       "       [1., 0., 0.],\n",
       "       [1., 0., 0.],\n",
       "       [0., 1., 0.],\n",
       "       [0., 1., 0.],\n",
       "       [0., 1., 0.],\n",
       "       [1., 0., 0.],\n",
       "       [1., 0., 0.],\n",
       "       [0., 1., 0.],\n",
       "       [0., 1., 0.],\n",
       "       [1., 0., 0.],\n",
       "       [1., 0., 0.],\n",
       "       [1., 0., 0.],\n",
       "       [1., 0., 0.],\n",
       "       [0., 0., 1.],\n",
       "       [0., 0., 1.],\n",
       "       [1., 0., 0.],\n",
       "       [1., 0., 0.],\n",
       "       [1., 0., 0.],\n",
       "       [1., 0., 0.],\n",
       "       [0., 0., 1.],\n",
       "       [0., 1., 0.],\n",
       "       [1., 0., 0.],\n",
       "       [0., 1., 0.],\n",
       "       [0., 1., 0.],\n",
       "       [0., 0., 1.],\n",
       "       [0., 0., 1.],\n",
       "       [1., 0., 0.],\n",
       "       [0., 1., 0.],\n",
       "       [0., 0., 1.],\n",
       "       [1., 0., 0.],\n",
       "       [0., 0., 1.],\n",
       "       [0., 1., 0.],\n",
       "       [1., 0., 0.],\n",
       "       [1., 0., 0.],\n",
       "       [0., 1., 0.],\n",
       "       [0., 0., 1.],\n",
       "       [0., 1., 0.],\n",
       "       [0., 0., 1.],\n",
       "       [1., 0., 0.],\n",
       "       [1., 0., 0.],\n",
       "       [0., 1., 0.],\n",
       "       [0., 0., 1.],\n",
       "       [1., 0., 0.],\n",
       "       [0., 1., 0.],\n",
       "       [0., 1., 0.],\n",
       "       [1., 0., 0.],\n",
       "       [1., 0., 0.],\n",
       "       [1., 0., 0.],\n",
       "       [0., 0., 1.],\n",
       "       [0., 1., 0.],\n",
       "       [0., 1., 0.],\n",
       "       [0., 1., 0.],\n",
       "       [1., 0., 0.],\n",
       "       [1., 0., 0.],\n",
       "       [1., 0., 0.],\n",
       "       [1., 0., 0.],\n",
       "       [0., 1., 0.],\n",
       "       [0., 1., 0.],\n",
       "       [0., 1., 0.],\n",
       "       [1., 0., 0.],\n",
       "       [0., 0., 1.],\n",
       "       [1., 0., 0.],\n",
       "       [0., 1., 0.],\n",
       "       [0., 0., 1.]], dtype=float32)>"
      ]
     },
     "execution_count": 18,
     "metadata": {},
     "output_type": "execute_result"
    }
   ],
   "source": [
    "true_cat = tf.concat([y for x,y in test], axis=0)\n",
    "true_cat"
   ]
  },
  {
   "cell_type": "code",
   "execution_count": 19,
   "metadata": {},
   "outputs": [
    {
     "data": {
      "text/plain": [
       "<tf.Tensor: shape=(291,), dtype=int64, numpy=\n",
       "array([0, 1, 0, 2, 2, 2, 2, 0, 1, 2, 0, 2, 2, 0, 0, 1, 2, 1, 1, 2, 1, 1,\n",
       "       1, 1, 1, 2, 0, 0, 2, 2, 1, 1, 1, 0, 1, 1, 2, 1, 0, 1, 1, 1, 2, 2,\n",
       "       0, 1, 0, 2, 2, 2, 2, 0, 0, 1, 2, 0, 0, 1, 1, 2, 0, 0, 1, 2, 1, 0,\n",
       "       1, 2, 2, 0, 1, 1, 1, 1, 0, 1, 1, 2, 0, 2, 2, 0, 2, 2, 2, 0, 1, 2,\n",
       "       0, 0, 0, 2, 0, 2, 0, 1, 1, 1, 2, 0, 0, 0, 1, 2, 1, 0, 1, 2, 0, 1,\n",
       "       1, 0, 0, 2, 0, 1, 2, 1, 2, 1, 0, 0, 0, 2, 2, 1, 2, 0, 0, 1, 1, 1,\n",
       "       1, 1, 0, 2, 2, 1, 1, 0, 0, 0, 1, 0, 1, 2, 0, 1, 1, 1, 2, 1, 1, 0,\n",
       "       2, 2, 1, 0, 1, 1, 1, 1, 2, 1, 0, 0, 0, 2, 2, 2, 1, 1, 0, 0, 2, 2,\n",
       "       2, 1, 0, 0, 0, 0, 0, 0, 1, 2, 0, 2, 0, 0, 1, 2, 0, 1, 1, 0, 0, 0,\n",
       "       2, 1, 1, 0, 1, 0, 1, 0, 2, 0, 1, 0, 0, 1, 2, 0, 0, 2, 1, 1, 1, 1,\n",
       "       1, 1, 2, 0, 1, 2, 0, 0, 0, 1, 1, 1, 0, 0, 1, 1, 0, 0, 0, 0, 2, 2,\n",
       "       0, 0, 0, 0, 2, 1, 0, 1, 1, 2, 2, 0, 1, 2, 0, 2, 1, 0, 0, 1, 2, 1,\n",
       "       2, 0, 0, 1, 2, 0, 1, 1, 0, 0, 0, 2, 1, 1, 1, 0, 0, 0, 0, 1, 1, 1,\n",
       "       0, 2, 0, 1, 2])>"
      ]
     },
     "execution_count": 19,
     "metadata": {},
     "output_type": "execute_result"
    }
   ],
   "source": [
    "y_true = tf.argmax(true_cat, axis=1)\n",
    "y_true\n"
   ]
  },
  {
   "cell_type": "code",
   "execution_count": null,
   "metadata": {},
   "outputs": [],
   "source": [
    "auc = metrics.roc_auc_score(y_true, pred_cat)\n",
    "auc"
   ]
  },
  {
   "cell_type": "code",
   "execution_count": 20,
   "metadata": {},
   "outputs": [
    {
     "name": "stdout",
     "output_type": "stream",
     "text": [
      "              precision    recall  f1-score   support\n",
      "\n",
      "     healthy       0.34      0.38      0.36       107\n",
      "  sick_no_tb       0.30      0.20      0.24       107\n",
      "          tb       0.28      0.36      0.31        77\n",
      "\n",
      "    accuracy                           0.31       291\n",
      "   macro avg       0.31      0.31      0.30       291\n",
      "weighted avg       0.31      0.31      0.30       291\n",
      "\n"
     ]
    }
   ],
   "source": [
    "from sklearn.metrics import classification_report, confusion_matrix\n",
    "print(classification_report(y_true, pred_cat, target_names=classname))"
   ]
  },
  {
   "cell_type": "code",
   "execution_count": 22,
   "metadata": {},
   "outputs": [
    {
     "data": {
      "text/plain": [
       "<Axes: >"
      ]
     },
     "execution_count": 22,
     "metadata": {},
     "output_type": "execute_result"
    },
    {
     "data": {
      "image/png": "[encoded data removed]",
      "text/plain": [
       "<Figure size 640x480 with 2 Axes>"
      ]
     },
     "metadata": {},
     "output_type": "display_data"
    }
   ],
   "source": [
    "cm = confusion_matrix(y_true, pred_cat)\n",
    "plt.figure()\n",
    "sns.heatmap(cm, annot=True)"
   ]
  },
  {
   "cell_type": "markdown",
   "metadata": {},
   "source": [
    "# TRY"
   ]
  },
  {
   "cell_type": "code",
   "execution_count": 11,
   "metadata": {},
   "outputs": [],
   "source": [
    "from tensorflow.keras.preprocessing.image import ImageDataGenerator\n",
    "image_gen = ImageDataGenerator(\n",
    "                                rescale = 1./255,\n",
    "                                horizontal_flip = True,          \n",
    "                               )\n",
    "# Create Image Data Generator for Test/Validation Set\n",
    "test_data_gen = ImageDataGenerator(rescale = 1./255)\n",
    "img_height,img_width=256,256\n",
    "batch_size=8"
   ]
  },
  {
   "cell_type": "code",
   "execution_count": 12,
   "metadata": {},
   "outputs": [
    {
     "name": "stdout",
     "output_type": "stream",
     "text": [
      "Found 2065 images belonging to 3 classes.\n",
      "Found 291 images belonging to 3 classes.\n",
      "Found 800 images belonging to 3 classes.\n"
     ]
    }
   ],
   "source": [
    "train = image_gen.flow_from_directory(\n",
    "      '/home/axernox/Resnet50/tbx11k-simplified_red/traincl',\n",
    "      target_size=(img_height, img_width),\n",
    "      color_mode='rgb',\n",
    "      class_mode='categorical',\n",
    "      batch_size=batch_size\n",
    "      )\n",
    "\n",
    "test = test_data_gen.flow_from_directory(\n",
    "      '/home/axernox/Resnet50/tbx11k-simplified_red/testcl',\n",
    "      target_size=(img_height, img_width),\n",
    "      color_mode='rgb',\n",
    "      shuffle=False, \n",
    "      class_mode='categorical',\n",
    "      batch_size=batch_size\n",
    "      )\n",
    "\n",
    "val = test_data_gen.flow_from_directory(\n",
    "      '/home/axernox/Resnet50/tbx11k-simplified_red/valcl',\n",
    "      target_size=(img_height, img_width),\n",
    "      color_mode='rgb',\n",
    "      class_mode='categorical', \n",
    "      batch_size=batch_size\n",
    "      )"
   ]
  },
  {
   "cell_type": "code",
   "execution_count": 8,
   "metadata": {},
   "outputs": [
    {
     "name": "stdout",
     "output_type": "stream",
     "text": [
      "Epoch 1/20\n"
     ]
    },
    {
     "name": "stderr",
     "output_type": "stream",
     "text": [
      "WARNING: All log messages before absl::InitializeLog() is called are written to STDERR\n",
      "I0000 00:00:1726400235.801965    1147 service.cc:145] XLA service 0x7fc4ac016210 initialized for platform CUDA (this does not guarantee that XLA will be used). Devices:\n",
      "I0000 00:00:1726400235.802089    1147 service.cc:153]   StreamExecutor device (0): NVIDIA GeForce RTX 3050 Ti Laptop GPU, Compute Capability 8.6\n",
      "2024-09-15 17:07:15.871979: I tensorflow/compiler/mlir/tensorflow/utils/dump_mlir_util.cc:268] disabling MLIR crash reproducer, set env var `MLIR_CRASH_REPRODUCER_DIRECTORY` to enable.\n",
      "2024-09-15 17:07:16.183993: I external/local_xla/xla/stream_executor/cuda/cuda_dnn.cc:465] Loaded cuDNN version 8907\n"
     ]
    },
    {
     "name": "stdout",
     "output_type": "stream",
     "text": [
      "\u001b[1m  1/259\u001b[0m \u001b[37m━━━━━━━━━━━━━━━━━━━━\u001b[0m \u001b[1m1:05:29\u001b[0m 15s/step - accuracy: 0.2500 - loss: 1.6657"
     ]
    },
    {
     "name": "stderr",
     "output_type": "stream",
     "text": [
      "WARNING: All log messages before absl::InitializeLog() is called are written to STDERR\n",
      "I0000 00:00:1726400248.897490    1147 asm_compiler.cc:369] ptxas warning : Registers are spilled to local memory in function 'input_reduce_select_fusion_7', 196 bytes spill stores, 196 bytes spill loads\n",
      "ptxas warning : Registers are spilled to local memory in function 'input_reduce_select_fusion_6', 68 bytes spill stores, 68 bytes spill loads\n",
      "\n",
      "I0000 00:00:1726400248.903936    1147 device_compiler.h:188] Compiled cluster using XLA!  This line is logged at most once for the lifetime of the process.\n"
     ]
    },
    {
     "name": "stdout",
     "output_type": "stream",
     "text": [
      "\u001b[1m258/259\u001b[0m \u001b[32m━━━━━━━━━━━━━━━━━━━\u001b[0m\u001b[37m━\u001b[0m \u001b[1m0s\u001b[0m 57ms/step - accuracy: 0.5618 - loss: 1.4764"
     ]
    },
    {
     "name": "stderr",
     "output_type": "stream",
     "text": [
      "2024-09-15 17:07:47.228296: W external/local_tsl/tsl/framework/bfc_allocator.cc:296] Allocator (GPU_0_bfc) ran out of memory trying to allocate 1.03GiB with freed_by_count=0. The caller indicates that this is not a failure, but this may mean that there could be performance gains if more memory were available.\n"
     ]
    },
    {
     "name": "stdout",
     "output_type": "stream",
     "text": [
      "\u001b[1m259/259\u001b[0m \u001b[32m━━━━━━━━━━━━━━━━━━━━\u001b[0m\u001b[37m\u001b[0m \u001b[1m0s\u001b[0m 81ms/step - accuracy: 0.5623 - loss: 1.4740"
     ]
    },
    {
     "name": "stderr",
     "output_type": "stream",
     "text": [
      "I0000 00:00:1726400270.659380    1802 asm_compiler.cc:369] ptxas warning : Registers are spilled to local memory in function 'triton_gemm_dot_178', 540 bytes spill stores, 540 bytes spill loads\n",
      "\n"
     ]
    },
    {
     "name": "stdout",
     "output_type": "stream",
     "text": [
      "\u001b[1m259/259\u001b[0m \u001b[32m━━━━━━━━━━━━━━━━━━━━\u001b[0m\u001b[37m\u001b[0m \u001b[1m39s\u001b[0m 91ms/step - accuracy: 0.5627 - loss: 1.4717 - val_accuracy: 0.7987 - val_loss: 0.5822 - learning_rate: 1.0000e-04\n",
      "Epoch 2/20\n",
      "\u001b[1m259/259\u001b[0m \u001b[32m━━━━━━━━━━━━━━━━━━━━\u001b[0m\u001b[37m\u001b[0m \u001b[1m16s\u001b[0m 63ms/step - accuracy: 0.7730 - loss: 0.5522 - val_accuracy: 0.8163 - val_loss: 0.4982 - learning_rate: 1.0000e-04\n",
      "Epoch 3/20\n",
      "\u001b[1m259/259\u001b[0m \u001b[32m━━━━━━━━━━━━━━━━━━━━\u001b[0m\u001b[37m\u001b[0m \u001b[1m16s\u001b[0m 63ms/step - accuracy: 0.8112 - loss: 0.4743 - val_accuracy: 0.8313 - val_loss: 0.4516 - learning_rate: 1.0000e-04\n",
      "Epoch 4/20\n",
      "\u001b[1m259/259\u001b[0m \u001b[32m━━━━━━━━━━━━━━━━━━━━\u001b[0m\u001b[37m\u001b[0m \u001b[1m16s\u001b[0m 64ms/step - accuracy: 0.8282 - loss: 0.4166 - val_accuracy: 0.8275 - val_loss: 0.4479 - learning_rate: 1.0000e-04\n",
      "Epoch 5/20\n",
      "\u001b[1m259/259\u001b[0m \u001b[32m━━━━━━━━━━━━━━━━━━━━\u001b[0m\u001b[37m\u001b[0m \u001b[1m17s\u001b[0m 64ms/step - accuracy: 0.8694 - loss: 0.3295 - val_accuracy: 0.8263 - val_loss: 0.5188 - learning_rate: 1.0000e-04\n",
      "Epoch 6/20\n",
      "\u001b[1m259/259\u001b[0m \u001b[32m━━━━━━━━━━━━━━━━━━━━\u001b[0m\u001b[37m\u001b[0m \u001b[1m17s\u001b[0m 64ms/step - accuracy: 0.9211 - loss: 0.2148 - val_accuracy: 0.8675 - val_loss: 0.4120 - learning_rate: 1.0000e-04\n",
      "Epoch 7/20\n",
      "\u001b[1m259/259\u001b[0m \u001b[32m━━━━━━━━━━━━━━━━━━━━\u001b[0m\u001b[37m\u001b[0m \u001b[1m17s\u001b[0m 64ms/step - accuracy: 0.9412 - loss: 0.1648 - val_accuracy: 0.8612 - val_loss: 0.4221 - learning_rate: 1.0000e-04\n",
      "Epoch 8/20\n",
      "\u001b[1m258/259\u001b[0m \u001b[32m━━━━━━━━━━━━━━━━━━━\u001b[0m\u001b[37m━\u001b[0m \u001b[1m0s\u001b[0m 58ms/step - accuracy: 0.9611 - loss: 0.1247\n",
      "Epoch 8: ReduceLROnPlateau reducing learning rate to 2.9999999242136255e-05.\n",
      "\u001b[1m259/259\u001b[0m \u001b[32m━━━━━━━━━━━━━━━━━━━━\u001b[0m\u001b[37m\u001b[0m \u001b[1m17s\u001b[0m 64ms/step - accuracy: 0.9612 - loss: 0.1247 - val_accuracy: 0.8650 - val_loss: 0.5148 - learning_rate: 1.0000e-04\n",
      "Epoch 9/20\n",
      "\u001b[1m259/259\u001b[0m \u001b[32m━━━━━━━━━━━━━━━━━━━━\u001b[0m\u001b[37m\u001b[0m \u001b[1m17s\u001b[0m 64ms/step - accuracy: 0.9817 - loss: 0.0590 - val_accuracy: 0.8850 - val_loss: 0.5601 - learning_rate: 3.0000e-05\n"
     ]
    }
   ],
   "source": [
    "from tensorflow.keras.callbacks import EarlyStopping,ReduceLROnPlateau\n",
    "early = EarlyStopping(monitor= \"val_loss\", mode= \"min\", patience= 3)\n",
    "learning_rate_reduction = ReduceLROnPlateau(monitor='val_loss', patience = 2, verbose=1,factor=0.3, min_lr=0.000001)\n",
    "callbacks_list = [ early, learning_rate_reduction]\n",
    "train_his = model.fit(train, validation_data=val, epochs=20, batch_size=8, callbacks=callbacks_list)"
   ]
  },
  {
   "cell_type": "code",
   "execution_count": 26,
   "metadata": {},
   "outputs": [
    {
     "name": "stdout",
     "output_type": "stream",
     "text": [
      "\u001b[1m37/37\u001b[0m \u001b[32m━━━━━━━━━━━━━━━━━━━━\u001b[0m\u001b[37m\u001b[0m \u001b[1m1s\u001b[0m 18ms/step\n"
     ]
    },
    {
     "name": "stderr",
     "output_type": "stream",
     "text": [
      "2024-09-15 17:16:50.082464: W tensorflow/core/framework/local_rendezvous.cc:404] Local rendezvous is aborting with status: OUT_OF_RANGE: End of sequence\n"
     ]
    }
   ],
   "source": [
    "pred = model.predict(test)\n",
    "pred_cat = tf.argmax(pred, axis=1)\n",
    "true_cat = tf.concat([y for x,y in test], axis=0)\n",
    "y_true = tf.argmax(true_cat, axis=1)"
   ]
  },
  {
   "cell_type": "code",
   "execution_count": 22,
   "metadata": {},
   "outputs": [
    {
     "data": {
      "text/plain": [
       "['healthy', 'sick_no_tb', 'tb']"
      ]
     },
     "execution_count": 22,
     "metadata": {},
     "output_type": "execute_result"
    }
   ],
   "source": [
    "classname = val.class_names\n",
    "classname"
   ]
  },
  {
   "cell_type": "code",
   "execution_count": 27,
   "metadata": {},
   "outputs": [
    {
     "name": "stdout",
     "output_type": "stream",
     "text": [
      "              precision    recall  f1-score   support\n",
      "\n",
      "     healthy       0.95      0.97      0.96       107\n",
      "  sick_no_tb       0.90      0.94      0.92       107\n",
      "          tb       0.90      0.82      0.86        77\n",
      "\n",
      "    accuracy                           0.92       291\n",
      "   macro avg       0.92      0.91      0.91       291\n",
      "weighted avg       0.92      0.92      0.92       291\n",
      "\n"
     ]
    }
   ],
   "source": [
    "from sklearn.metrics import classification_report, confusion_matrix\n",
    "\n",
    "print(classification_report(y_true, pred_cat, target_names=classname))"
   ]
  },
  {
   "cell_type": "code",
   "execution_count": 28,
   "metadata": {},
   "outputs": [
    {
     "data": {
      "text/plain": [
       "<Axes: >"
      ]
     },
     "execution_count": 28,
     "metadata": {},
     "output_type": "execute_result"
    },
    {
     "data": {
      "image/png": "[encoded data removed]",
      "text/plain": [
       "<Figure size 640x480 with 2 Axes>"
      ]
     },
     "metadata": {},
     "output_type": "display_data"
    }
   ],
   "source": [
    "import seaborn as sns\n",
    "cm = confusion_matrix(y_true, pred_cat,)\n",
    "plt.figure()\n",
    "sns.heatmap(cm, annot=True, xticklabels=classname, yticklabels=classname)"
   ]
  },
  {
   "cell_type": "code",
   "execution_count": 29,
   "metadata": {},
   "outputs": [],
   "source": [
    "model.save('customcnn_canny.keras')"
   ]
  },
  {
   "cell_type": "code",
   "execution_count": 30,
   "metadata": {},
   "outputs": [],
   "source": [
    "import json\n",
    "with open(\"customcnn_canny.json\", \"w\") as f:\n",
    "    json.dump(train_his.history, f)"
   ]
  },
  {
   "cell_type": "markdown",
   "metadata": {},
   "source": [
    "## TEST"
   ]
  },
  {
   "cell_type": "code",
   "execution_count": 6,
   "metadata": {},
   "outputs": [],
   "source": [
    "model = load_model('/home/axernox/Resnet50/customcnn_canny.keras')"
   ]
  },
  {
   "cell_type": "code",
   "execution_count": 40,
   "metadata": {},
   "outputs": [
    {
     "name": "stdout",
     "output_type": "stream",
     "text": [
      "\u001b[1m37/37\u001b[0m \u001b[32m━━━━━━━━━━━━━━━━━━━━\u001b[0m\u001b[37m\u001b[0m \u001b[1m9s\u001b[0m 235ms/step\n"
     ]
    }
   ],
   "source": [
    "pred = model.predict(test)\n",
    "pred_cat = tf.argmax(pred, axis=1)\n",
    "true_cat = tf.concat([y for x,y in test], axis=0)\n",
    "y_true = tf.argmax(true_cat, axis=1)"
   ]
  },
  {
   "cell_type": "code",
   "execution_count": 23,
   "metadata": {},
   "outputs": [],
   "source": [
    "X_train = list(map(lambda x: x[0], test))\n",
    "y_train = list(map(lambda x: x[1], test))"
   ]
  },
  {
   "cell_type": "code",
   "execution_count": 33,
   "metadata": {},
   "outputs": [],
   "source": [
    "classname = test.class_names"
   ]
  },
  {
   "cell_type": "code",
   "execution_count": 41,
   "metadata": {},
   "outputs": [
    {
     "name": "stdout",
     "output_type": "stream",
     "text": [
      "              precision    recall  f1-score   support\n",
      "\n",
      "     healthy       0.95      0.97      0.96       107\n",
      "  sick_no_tb       0.90      0.94      0.92       107\n",
      "          tb       0.90      0.82      0.86        77\n",
      "\n",
      "    accuracy                           0.92       291\n",
      "   macro avg       0.92      0.91      0.91       291\n",
      "weighted avg       0.92      0.92      0.92       291\n",
      "\n"
     ]
    }
   ],
   "source": [
    "from sklearn.metrics import classification_report, confusion_matrix\n",
    "\n",
    "print(classification_report(y_true, pred_cat, target_names=classname))"
   ]
  },
  {
   "cell_type": "code",
   "execution_count": 42,
   "metadata": {},
   "outputs": [
    {
     "data": {
      "text/plain": [
       "<Axes: >"
      ]
     },
     "execution_count": 42,
     "metadata": {},
     "output_type": "execute_result"
    },
    {
     "data": {
      "image/png": "[encoded data removed]",
      "text/plain": [
       "<Figure size 640x480 with 2 Axes>"
      ]
     },
     "metadata": {},
     "output_type": "display_data"
    }
   ],
   "source": [
    "import seaborn as sns\n",
    "cm = confusion_matrix(y_true, pred_cat,)\n",
    "plt.figure()\n",
    "sns.heatmap(cm, annot=True, xticklabels=classname, yticklabels=classname)"
   ]
  }
 ],
 "metadata": {
  "kernelspec": {
   "display_name": "Python 3",
   "language": "python",
   "name": "python3"
  },
  "language_info": {
   "codemirror_mode": {
    "name": "ipython",
    "version": 3
   },
   "file_extension": ".py",
   "mimetype": "text/x-python",
   "name": "python",
   "nbconvert_exporter": "python",
   "pygments_lexer": "ipython3",
   "version": "3.10.12"
  }
 },
 "nbformat": 4,
 "nbformat_minor": 2
}
